{
 "cells": [
  {
   "cell_type": "code",
   "execution_count": 8,
   "metadata": {},
   "outputs": [],
   "source": [
    "\n",
    "import sqlite3\n",
    "import pandas as pd\n",
    "import numpy as np\n",
    "import sqlalchemy\n",
    "import matplotlib.pyplot as plt\n",
    "import os\n",
    "import itertools"
   ]
  },
  {
   "cell_type": "code",
   "execution_count": 9,
   "metadata": {},
   "outputs": [],
   "source": [
    "from helpers import *"
   ]
  },
  {
   "cell_type": "code",
   "execution_count": 10,
   "metadata": {},
   "outputs": [],
   "source": [
    "data = pd.read_csv('Global_Superstore_clean1.txt', delimiter='\\t')"
   ]
  },
  {
   "cell_type": "code",
   "execution_count": 101,
   "metadata": {},
   "outputs": [],
   "source": [
    "data['order_date_month'] = data['Order Date'].str[5:7]\n",
    "data['order_date_day'] = str(data['Order Date'].str[5:7]) + str(data['Order Date'].str[8:10])"
   ]
  },
  {
   "cell_type": "code",
   "execution_count": 92,
   "metadata": {},
   "outputs": [
    {
     "data": {
      "text/plain": [
       "'2011-08-05 00:00:00.000'"
      ]
     },
     "execution_count": 92,
     "metadata": {},
     "output_type": "execute_result"
    }
   ],
   "source": [
    "newdata = data['Order Date'][2]\n",
    "newdata"
   ]
  },
  {
   "cell_type": "code",
   "execution_count": null,
   "metadata": {},
   "outputs": [],
   "source": []
  },
  {
   "cell_type": "code",
   "execution_count": 90,
   "metadata": {},
   "outputs": [
    {
     "data": {
      "text/plain": [
       "0        2011-01-07 00:00:00.000\n",
       "1        2011-01-21 00:00:00.000\n",
       "2        2011-08-05 00:00:00.000\n",
       "3        2011-08-05 00:00:00.000\n",
       "4        2011-09-29 00:00:00.000\n",
       "                  ...           \n",
       "51285    2014-12-03 00:00:00.000\n",
       "51286    2014-12-03 00:00:00.000\n",
       "51287    2014-12-18 00:00:00.000\n",
       "51288    2014-12-25 00:00:00.000\n",
       "51289    2014-12-26 00:00:00.000\n",
       "Name: Order Date, Length: 51290, dtype: object"
      ]
     },
     "execution_count": 90,
     "metadata": {},
     "output_type": "execute_result"
    }
   ],
   "source": [
    "data['Order Date']"
   ]
  },
  {
   "cell_type": "code",
   "execution_count": 91,
   "metadata": {},
   "outputs": [
    {
     "data": {
      "text/plain": [
       "0        07\n",
       "1        21\n",
       "2        05\n",
       "3        05\n",
       "4        29\n",
       "         ..\n",
       "51285    03\n",
       "51286    03\n",
       "51287    18\n",
       "51288    25\n",
       "51289    26\n",
       "Name: Order Date, Length: 51290, dtype: object"
      ]
     },
     "execution_count": 91,
     "metadata": {},
     "output_type": "execute_result"
    }
   ],
   "source": [
    "data['Order Date'].str[8:10]"
   ]
  },
  {
   "cell_type": "code",
   "execution_count": 102,
   "metadata": {},
   "outputs": [],
   "source": [
    "dfTime = data[['Order Date','Ship Date','Order Priority','order_date_day','Year','weeknum','order_date_month']].copy()\n",
    "dfProduct = data[['Product ID','Product Name','Profit','Sub-Category','Country','Market2','Sales','Discount']].copy()\n",
    "dfShipping = data[['Product Name','Shipping Cost','Order Priority','Ship Mode','Sales','Profit','order_date_month','Year']].copy()\n",
    "\n",
    "\n",
    "\n",
    "\n"
   ]
  },
  {
   "cell_type": "code",
   "execution_count": 103,
   "metadata": {},
   "outputs": [],
   "source": [
    "from sqlalchemy import create_engine\n",
    "import sqlalchemy\n",
    "#engine = create_engine('sqlite://', echo=False)\n",
    "engine = create_engine('sqlite:///retail774.db')"
   ]
  },
  {
   "cell_type": "code",
   "execution_count": 104,
   "metadata": {},
   "outputs": [
    {
     "data": {
      "text/plain": [
       "51290"
      ]
     },
     "execution_count": 104,
     "metadata": {},
     "output_type": "execute_result"
    }
   ],
   "source": [
    "# only need to do this once!\n",
    "#\n",
    "data.to_sql('mastertwo', con=engine,if_exists='replace')\n",
    "#   \n",
    "#\n",
    "dfTime.to_sql('timeDimension',con=engine,if_exists='replace')\n",
    "dfProduct.to_sql('productDimension', con=engine,if_exists='replace')\n",
    "dfShipping.to_sql('shippingDimension', con=engine,if_exists='replace')"
   ]
  },
  {
   "cell_type": "code",
   "execution_count": 8,
   "metadata": {},
   "outputs": [],
   "source": [
    "\n",
    "connection = engine.connect()\n",
    "metadata = sqlalchemy.MetaData()\n",
    "mastertwo_sql_object = sqlalchemy.Table('mastertwo', metadata, autoload=True, autoload_with=engine)"
   ]
  },
  {
   "cell_type": "code",
   "execution_count": null,
   "metadata": {},
   "outputs": [],
   "source": [
    "timeD_sql_object = sqlalchemy.Table('timeDimension', metadata, autoload=True, autoload_with=engine)"
   ]
  },
  {
   "cell_type": "code",
   "execution_count": null,
   "metadata": {},
   "outputs": [],
   "source": [
    "timeD_sql_object.columns.items()"
   ]
  },
  {
   "cell_type": "code",
   "execution_count": null,
   "metadata": {},
   "outputs": [],
   "source": [
    "table = 'timeDimension'\n",
    "column= 'Ship Date'\n",
    "value = 2011\n",
    "query = 'SELECT * FROM `' + str(table) + '` WHERE `'  + str(column) + '` LIKE '+ '2011%'\n",
    "#WHERE  col1 LIKE @letter + '%'\n",
    "query"
   ]
  },
  {
   "cell_type": "code",
   "execution_count": null,
   "metadata": {},
   "outputs": [],
   "source": [
    "res = engine.execute('SELECT * FROM productDimension WHERE weeknum = :val', {'val': 34}).fetchall()"
   ]
  },
  {
   "cell_type": "code",
   "execution_count": 111,
   "metadata": {},
   "outputs": [
    {
     "data": {
      "text/plain": [
       "Int64Index([], dtype='int64')"
      ]
     },
     "execution_count": 111,
     "metadata": {},
     "output_type": "execute_result"
    }
   ],
   "source": [
    "res = dfProduct[dfProduct['Country'] == ''].index\n",
    "res"
   ]
  },
  {
   "cell_type": "code",
   "execution_count": 115,
   "metadata": {},
   "outputs": [
    {
     "data": {
      "text/plain": [
       "False"
      ]
     },
     "execution_count": 115,
     "metadata": {},
     "output_type": "execute_result"
    }
   ],
   "source": [
    "res = pd.isna(dfProduct['Country'])\n",
    "any(res)"
   ]
  },
  {
   "cell_type": "code",
   "execution_count": 119,
   "metadata": {},
   "outputs": [
    {
     "data": {
      "text/plain": [
       "United States    9994\n",
       "Australia        2837\n",
       "France           2827\n",
       "Mexico           2644\n",
       "Germany          2065\n",
       "                 ... \n",
       "South Sudan         2\n",
       "Chad                2\n",
       "Swaziland           2\n",
       "Eritrea             2\n",
       "Bahrain             2\n",
       "Name: Country, Length: 147, dtype: int64"
      ]
     },
     "execution_count": 119,
     "metadata": {},
     "output_type": "execute_result"
    }
   ],
   "source": [
    "dfProduct['Country'].value_counts()"
   ]
  },
  {
   "cell_type": "code",
   "execution_count": null,
   "metadata": {},
   "outputs": [],
   "source": []
  },
  {
   "cell_type": "code",
   "execution_count": null,
   "metadata": {},
   "outputs": [],
   "source": []
  },
  {
   "cell_type": "code",
   "execution_count": 165,
   "metadata": {},
   "outputs": [
    {
     "data": {
      "image/png": "[encoded data removed]",
      "text/plain": [
       "<Figure size 432x288 with 1 Axes>"
      ]
     },
     "metadata": {
      "needs_background": "light"
     },
     "output_type": "display_data"
    },
    {
     "data": {
      "text/plain": [
       "'bar_stacked_2d.png'"
      ]
     },
     "execution_count": 165,
     "metadata": {},
     "output_type": "execute_result"
    }
   ],
   "source": [
    "get_2D_sum_stacked_bar_graph('Shipping Cost','Market2',engine=engine,show=True)"
   ]
  },
  {
   "cell_type": "code",
   "execution_count": 15,
   "metadata": {},
   "outputs": [
    {
     "data": {
      "text/html": [
       "<div>\n",
       "<style scoped>\n",
       "    .dataframe tbody tr th:only-of-type {\n",
       "        vertical-align: middle;\n",
       "    }\n",
       "\n",
       "    .dataframe tbody tr th {\n",
       "        vertical-align: top;\n",
       "    }\n",
       "\n",
       "    .dataframe thead th {\n",
       "        text-align: right;\n",
       "    }\n",
       "</style>\n",
       "<table border=\"1\" class=\"dataframe\">\n",
       "  <thead>\n",
       "    <tr style=\"text-align: right;\">\n",
       "      <th></th>\n",
       "      <th>Product ID</th>\n",
       "      <th>Product Name</th>\n",
       "      <th>Profit</th>\n",
       "      <th>Sub-Category</th>\n",
       "      <th>Country</th>\n",
       "      <th>Market2</th>\n",
       "      <th>Sales</th>\n",
       "      <th>Discount</th>\n",
       "    </tr>\n",
       "  </thead>\n",
       "  <tbody>\n",
       "    <tr>\n",
       "      <th>0</th>\n",
       "      <td>OFF-PA-10002005</td>\n",
       "      <td>Xerox 225</td>\n",
       "      <td>9.3312</td>\n",
       "      <td>Paper</td>\n",
       "      <td>United States</td>\n",
       "      <td>North America</td>\n",
       "      <td>19</td>\n",
       "      <td>0.0</td>\n",
       "    </tr>\n",
       "    <tr>\n",
       "      <th>1</th>\n",
       "      <td>OFF-PA-10002893</td>\n",
       "      <td>Wirebound Service Call Books, 5 1/2\" x 4\"</td>\n",
       "      <td>9.2928</td>\n",
       "      <td>Paper</td>\n",
       "      <td>United States</td>\n",
       "      <td>North America</td>\n",
       "      <td>19</td>\n",
       "      <td>0.0</td>\n",
       "    </tr>\n",
       "    <tr>\n",
       "      <th>2</th>\n",
       "      <td>OFF-PA-10000659</td>\n",
       "      <td>Adams Phone Message Book, Professional, 400 Me...</td>\n",
       "      <td>9.8418</td>\n",
       "      <td>Paper</td>\n",
       "      <td>United States</td>\n",
       "      <td>North America</td>\n",
       "      <td>21</td>\n",
       "      <td>0.0</td>\n",
       "    </tr>\n",
       "    <tr>\n",
       "      <th>3</th>\n",
       "      <td>OFF-PA-10001144</td>\n",
       "      <td>Xerox 1913</td>\n",
       "      <td>53.2608</td>\n",
       "      <td>Paper</td>\n",
       "      <td>United States</td>\n",
       "      <td>North America</td>\n",
       "      <td>111</td>\n",
       "      <td>0.0</td>\n",
       "    </tr>\n",
       "    <tr>\n",
       "      <th>4</th>\n",
       "      <td>OFF-PA-10002105</td>\n",
       "      <td>Xerox 223</td>\n",
       "      <td>3.1104</td>\n",
       "      <td>Paper</td>\n",
       "      <td>United States</td>\n",
       "      <td>North America</td>\n",
       "      <td>6</td>\n",
       "      <td>0.0</td>\n",
       "    </tr>\n",
       "  </tbody>\n",
       "</table>\n",
       "</div>"
      ],
      "text/plain": [
       "        Product ID                                       Product Name  \\\n",
       "0  OFF-PA-10002005                                          Xerox 225   \n",
       "1  OFF-PA-10002893          Wirebound Service Call Books, 5 1/2\" x 4\"   \n",
       "2  OFF-PA-10000659  Adams Phone Message Book, Professional, 400 Me...   \n",
       "3  OFF-PA-10001144                                         Xerox 1913   \n",
       "4  OFF-PA-10002105                                          Xerox 223   \n",
       "\n",
       "    Profit Sub-Category        Country        Market2  Sales  Discount  \n",
       "0   9.3312        Paper  United States  North America     19       0.0  \n",
       "1   9.2928        Paper  United States  North America     19       0.0  \n",
       "2   9.8418        Paper  United States  North America     21       0.0  \n",
       "3  53.2608        Paper  United States  North America    111       0.0  \n",
       "4   3.1104        Paper  United States  North America      6       0.0  "
      ]
     },
     "execution_count": 15,
     "metadata": {},
     "output_type": "execute_result"
    }
   ],
   "source": [
    "\n",
    "\n",
    "dfProduct.head()\n",
    "\n",
    "\n"
   ]
  },
  {
   "cell_type": "code",
   "execution_count": 19,
   "metadata": {},
   "outputs": [
    {
     "data": {
      "text/plain": [
       "United States     9994\n",
       "Australia         2837\n",
       "France            2827\n",
       "Mexico            2644\n",
       "Germany           2065\n",
       "China             1880\n",
       "United Kingdom    1633\n",
       "Brazil            1599\n",
       "India             1555\n",
       "Indonesia         1390\n",
       "Name: Country, dtype: int64"
      ]
     },
     "execution_count": 19,
     "metadata": {},
     "output_type": "execute_result"
    }
   ],
   "source": [
    "dfProduct['Country'].value_counts()[:10]"
   ]
  },
  {
   "cell_type": "code",
   "execution_count": null,
   "metadata": {},
   "outputs": [],
   "source": [
    "res = engine.execute('SELECT TOP 10 * FROM productDimension WHERE weeknum = :val', {'val': 34}).fetchall()"
   ]
  },
  {
   "cell_type": "code",
   "execution_count": 72,
   "metadata": {},
   "outputs": [
    {
     "name": "stdout",
     "output_type": "stream",
     "text": [
      "SELECT `Country`, COUNT(*) FROM `productDimension` GROUP BY `Country` Order By COUNT(*) DESC LIMIT 10\n"
     ]
    }
   ],
   "source": [
    "column_wanted_top_values = 'Country'\n",
    "tablename = 'productDimension'\n",
    "number_wanted = 10\n",
    "\n",
    "query = 'SELECT `' + str(column_wanted_top_values) + '`, COUNT(*) FROM `' +str(tablename)+ '` GROUP BY `'+str(column_wanted_top_values)+'` Order By COUNT(*) DESC LIMIT '+str(number_wanted)\n",
    "\n",
    "\n",
    "#res = engine.execute('SELECT Country, COUNT(*) FROM productDimension Group By country Order By COUNT(*) DESC LIMIT 10').fetchall()\n",
    "print(query)\n",
    "res = engine.execute(query).fetchall()"
   ]
  },
  {
   "cell_type": "code",
   "execution_count": 69,
   "metadata": {},
   "outputs": [
    {
     "data": {
      "text/plain": [
       "['United States',\n",
       " 'Australia',\n",
       " 'France',\n",
       " 'Mexico',\n",
       " 'Germany',\n",
       " 'China',\n",
       " 'United Kingdom',\n",
       " 'Brazil',\n",
       " 'India',\n",
       " 'Indonesia']"
      ]
     },
     "execution_count": 69,
     "metadata": {},
     "output_type": "execute_result"
    }
   ],
   "source": [
    "top_values_names=[]\n",
    "top_values_values=[]\n",
    "for item in res:\n",
    "    top_values_names.append(item[0])\n",
    "    top_values_values.append(item[1])\n",
    "top_values_names"
   ]
  },
  {
   "cell_type": "code",
   "execution_count": null,
   "metadata": {},
   "outputs": [],
   "source": []
  },
  {
   "cell_type": "code",
   "execution_count": 79,
   "metadata": {},
   "outputs": [
    {
     "name": "stdout",
     "output_type": "stream",
     "text": [
      "SELECT `Product Name`, COUNT(*) FROM `productDimension` GROUP BY `Product Name` Order By COUNT(*) DESC LIMIT 10\n"
     ]
    }
   ],
   "source": [
    "column_wanted_top_values_list = ['Product Name','Country']\n",
    "column_analyze_list = ['Sales','Profit']\n",
    "\n",
    "\n",
    "column_wanted_top_values = 'Product Name'\n",
    "column_analyze = 'Sales'\n",
    "tablename = 'productDimension'\n",
    "number_wanted = 10\n",
    "year = 2011\n",
    "\n",
    "\n",
    "\n",
    "query = 'SELECT `' + str(column_wanted_top_values) + '`, COUNT(*) FROM `' +str(tablename)+ '` GROUP BY `'+str(column_wanted_top_values)+'` Order By COUNT(*) DESC LIMIT '+str(number_wanted)\n",
    "\n",
    "\n",
    "#res = engine.execute('SELECT Country, COUNT(*) FROM productDimension Group By country Order By COUNT(*) DESC LIMIT 10').fetchall()\n",
    "print(query)\n",
    "res = engine.execute(query).fetchall()\n",
    "\n",
    "top_values_names=[]\n",
    "top_values_values=[]\n",
    "for item in res:\n",
    "    top_values_names.append(item[0])\n",
    "    top_values_values.append(item[1])\n",
    "\n"
   ]
  },
  {
   "cell_type": "code",
   "execution_count": 171,
   "metadata": {},
   "outputs": [],
   "source": [
    "def get_list_product_names_values(list_length=5,engine=engine):\n",
    "    '''\n",
    "    if list_length is 0, ALL products are returned\n",
    "    '''\n",
    "    product_names=[]\n",
    "    product_counts=[]\n",
    "    if list_length==0:\n",
    "        query = 'SELECT `Product Name`, COUNT(*) FROM productDimension Group By `Product Name` Order By COUNT(*)'\n",
    "    else:\n",
    "        query = 'SELECT `Product Name`, COUNT(*) FROM productDimension Group By `Product Name` Order By COUNT(*) DESC LIMIT '+str(list_length)\n",
    "    res = engine.execute(query).fetchall()\n",
    "    for item in res:\n",
    "        product_names.append(item[0])\n",
    "        product_counts.append(item[1])\n",
    "    return product_names,product_counts\n",
    "top_values_names,top_values_values = get_list_product_names_values(list_length=10)"
   ]
  },
  {
   "cell_type": "code",
   "execution_count": 185,
   "metadata": {},
   "outputs": [
    {
     "data": {
      "text/plain": [
       "'static\\\\top_count_chart1.png'"
      ]
     },
     "execution_count": 185,
     "metadata": {},
     "output_type": "execute_result"
    },
    {
     "data": {
      "image/png": "[encoded data removed]",
      "text/plain": [
       "<Figure size 576x432 with 1 Axes>"
      ]
     },
     "metadata": {
      "needs_background": "light"
     },
     "output_type": "display_data"
    }
   ],
   "source": [
    "def get_top_items_count_graph(number_of_items=10,show=False):\n",
    "    top_values_names,top_values_values = get_list_product_names_values(list_length=number_of_items)\n",
    "    fig = plt.figure(figsize=(8,6))\n",
    "    plt.xticks(rotation = 45,ha='right') # Rotates X-Axis Ticks by 45-degrees\n",
    "    fig.subplots_adjust(bottom=0.5)\n",
    "    plt.bar(top_values_names,top_values_values)\n",
    "    if show: plt.show()\n",
    "    filepath = 'static' + '\\\\top_count_chart1.png'\n",
    "    plt.savefig(filepath)\n",
    "    return filepath\n",
    "get_top_items_count_graph(10)"
   ]
  },
  {
   "cell_type": "code",
   "execution_count": 152,
   "metadata": {},
   "outputs": [],
   "source": [
    "#query = 'SELECT `Product Name`, COUNT(*) FROM productDimension Group By `Product Name` Order By COUNT(*)'\n",
    "query = 'SELECT DISTINCT `Product Name` FROM productDimension ORDER BY `Product Name` ASC'\n",
    "res = engine.execute(query).fetchall()"
   ]
  },
  {
   "cell_type": "code",
   "execution_count": 153,
   "metadata": {},
   "outputs": [
    {
     "data": {
      "text/plain": [
       "[('\"While you Were Out\" Message Book, One Form per Page',),\n",
       " ('#10 Gummed Flap White Envelopes, 100/Box',),\n",
       " ('#10 Self-Seal White Envelopes',),\n",
       " ('#10 White Business Envelopes,4 1/8 x 9 1/2',),\n",
       " ('#10- 4 1/8\" x 9 1/2\" Recycled Envelopes',),\n",
       " ('#10- 4 1/8\" x 9 1/2\" Security-Tint Envelopes',),\n",
       " ('#10-4 1/8\" x 9 1/2\" Premium Diagonal Seam Envelopes',),\n",
       " ('#6 3/4 Gummed Flap White Envelopes',),\n",
       " ('1.7 Cubic Foot Compact \"Cube\" Office Refrigerators',),\n",
       " ('1/4 Fold Party Design Invitations & White Envelopes, 24 8-1/2\" X 11\" Cards, 25 Env./Pack',),\n",
       " ('12 Colored Short Pencils',),\n",
       " ('12-1/2 Diameter Round Wall Clock',),\n",
       " ('14-7/8 x 11 Blue Bar Computer Printout Paper',),\n",
       " ('2300 Heavy-Duty Transfer File Systems by Perma',),\n",
       " ('24 Capacity Maxi Data Binder Racks, Pearl',),\n",
       " ('24-Hour Round Wall Clock',),\n",
       " ('3.6 Cubic Foot Counter Height Office Refrigerator',),\n",
       " ('36X48 HARDFLOOR CHAIRMAT',),\n",
       " ('3D Systems Cube Printer, 2nd Generation, Magenta',),\n",
       " ('3D Systems Cube Printer, 2nd Generation, White',),\n",
       " ('3M Hangers With Command Adhesive',),\n",
       " ('3M Office Air Cleaner',),\n",
       " ('3M Organizer Strips',),\n",
       " ('3M Polarizing Light Filter Sleeves',),\n",
       " ('3M Polarizing Task Lamp with Clamp Arm, Light Gray',),\n",
       " ('3M Replacement Filter for Office Air Cleaner for 20  x 33  Room',),\n",
       " ('4009 Highlighters',),\n",
       " ('4009 Highlighters by Sanford',),\n",
       " ('50 Colored Long Pencils',),\n",
       " ('6\" Cubicle Wall Clock, Black',),\n",
       " ('9-3/4 Diameter Round Wall Clock',),\n",
       " ('ACCOHIDE 3-Ring Binder, Blue, 1\"',),\n",
       " ('ACCOHIDE Binder by Acco',),\n",
       " ('APC 7 Outlet Network SurgeArrest Surge Protector',),\n",
       " ('ARKON Windshield Dashboard Air Vent Car Mount Holder',),\n",
       " ('AT&T 1070 Corded Phone',),\n",
       " ('AT&T 1080 Corded phone',),\n",
       " ('AT&T 1080 Phone',),\n",
       " ('AT&T 17929 Lendline Telephone',),\n",
       " ('AT&T 841000 Phone',),\n",
       " ('AT&T CL2909',),\n",
       " ('AT&T CL82213',),\n",
       " ('AT&T CL83451 4-Handset Telephone',),\n",
       " ('AT&T EL51110 DECT',),\n",
       " ('AT&T SB67148 SynJ',),\n",
       " ('AT&T TR1909W',),\n",
       " ('Aastra 57i VoIP phone',),\n",
       " ('Aastra 6757i CT Wireless VoIP phone',),\n",
       " ('Acco 3-Hole Punch',),\n",
       " ('Acco 3-Hole Punch, Clear',),\n",
       " ('Acco 3-Hole Punch, Durable',),\n",
       " ('Acco 3-Hole Punch, Economy',),\n",
       " ('Acco 3-Hole Punch, Recycled',),\n",
       " ('Acco 6 Outlet Guardian Basic Surge Suppressor',),\n",
       " ('Acco 6 Outlet Guardian Premium Plus Surge Suppressor',),\n",
       " ('Acco 6 Outlet Guardian Premium Surge Suppressor',),\n",
       " ('Acco 6 Outlet Guardian Standard Surge Suppressor',),\n",
       " ('Acco 7-Outlet Masterpiece Power Center, Wihtout Fax/Phone Line Protection',),\n",
       " ('Acco Banker s Clasps, 5 3/4\"-Long',),\n",
       " ('Acco Binder Covers, Clear',),\n",
       " ('Acco Binder Covers, Durable',),\n",
       " ('Acco Binder Covers, Economy',),\n",
       " ('Acco Binder Covers, Recycled',),\n",
       " ('Acco Binder, Clear',),\n",
       " ('Acco Binder, Durable',),\n",
       " ('Acco Binder, Economy',),\n",
       " ('Acco Binder, Recycled',),\n",
       " ('Acco Binding Machine, Clear',),\n",
       " ('Acco Binding Machine, Durable',),\n",
       " ('Acco Binding Machine, Economy',),\n",
       " ('Acco Binding Machine, Recycled',),\n",
       " ('Acco Clips to Go Binder Clips, 24 Clips in Two Sizes',),\n",
       " ('Acco D-Ring Binder w/DublLock',),\n",
       " ('Acco Data Flex Cable Posts For Top & Bottom Load Binders, 6\" Capacity',),\n",
       " ('Acco Economy Flexible Poly Round Ring Binder',),\n",
       " ('Acco Expandable Hanging Binders',),\n",
       " ('Acco Flexible ACCOHIDE Square Ring Data Binder, Dark Blue, 11 1/2\" X 14\" 7/8\"',),\n",
       " ('Acco Four Pocket Poly Ring Binder with Label Holder, Smoke, 1\"',),\n",
       " ('Acco Glide Clips',),\n",
       " ('Acco Hanging Data Binders',),\n",
       " ('Acco Hole Reinforcements, Clear',),\n",
       " ('Acco Hole Reinforcements, Durable',),\n",
       " ('Acco Hole Reinforcements, Economy',),\n",
       " ('Acco Hole Reinforcements, Recycled',),\n",
       " ('Acco Hot Clips Clips to Go',),\n",
       " ('Acco Index Tab, Clear',),\n",
       " ('Acco Index Tab, Durable',),\n",
       " ('Acco Index Tab, Economy',),\n",
       " ('Acco PRESSTEX Data Binder with Storage Hooks, Dark Blue, 14 7/8\" X 11\"',),\n",
       " ('Acco PRESSTEX Data Binder with Storage Hooks, Dark Blue, 9 1/2\" X 11\"',),\n",
       " ('Acco PRESSTEX Data Binder with Storage Hooks, Light Blue, 9 1/2\" X 11\"',),\n",
       " ('Acco Perma 2700 Stacking Storage Drawers',),\n",
       " ('Acco Perma 3000 Stacking Storage Drawers',),\n",
       " ('Acco Perma 4000 Stacking Storage Drawers',),\n",
       " ('Acco Pressboard Covers with Storage Hooks, 14 7/8\" x 11\", Dark Blue',),\n",
       " ('Acco Pressboard Covers with Storage Hooks, 14 7/8\" x 11\", Executive Red',),\n",
       " ('Acco Pressboard Covers with Storage Hooks, 14 7/8\" x 11\", Light Blue',),\n",
       " ('Acco Pressboard Covers with Storage Hooks, 9 1/2\" x 11\", Executive Red',),\n",
       " ('Acco Recycled 2\" Capacity Laser Printer Hanging Data Binders',),\n",
       " ('Acco Side-Punched Conventional Columnar Pads',),\n",
       " ('Acco Six-Outlet Power Strip, 4  Cord Length',),\n",
       " ('Acco Smartsocket Color-Coded Six-Outlet AC Adapter Model Surge Protectors',),\n",
       " ('Acco Smartsocket Table Surge Protector, 6 Color-Coded Adapter Outlets',),\n",
       " ('Acco Suede Grain Vinyl Round Ring Binder',),\n",
       " ('Acco Translucent Poly Ring Binders',),\n",
       " ('Accohide Poly Flexible Ring Binders',),\n",
       " ('Accos Clamps, 12 Pack',),\n",
       " ('Accos Clamps, Assorted Sizes',),\n",
       " ('Accos Clamps, Bulk Pack',),\n",
       " ('Accos Clamps, Metal',),\n",
       " ('Accos Paper Clips, Assorted Sizes',),\n",
       " ('Accos Paper Clips, Bulk Pack',),\n",
       " ('Accos Paper Clips, Metal',),\n",
       " ('Accos Push Pins, 12 Pack',),\n",
       " ('Accos Push Pins, Assorted Sizes',),\n",
       " ('Accos Push Pins, Bulk Pack',),\n",
       " ('Accos Push Pins, Metal',),\n",
       " ('Accos Rubber Bands, 12 Pack',),\n",
       " ('Accos Rubber Bands, Assorted Sizes',),\n",
       " ('Accos Rubber Bands, Bulk Pack',),\n",
       " ('Accos Rubber Bands, Metal',),\n",
       " ('Accos Staples, 12 Pack',),\n",
       " ('Accos Staples, Assorted Sizes',),\n",
       " ('Accos Staples, Bulk Pack',),\n",
       " ('Accos Staples, Metal',),\n",
       " ('Accos Thumb Tacks, 12 Pack',),\n",
       " ('Accos Thumb Tacks, Assorted Sizes',),\n",
       " ('Accos Thumb Tacks, Bulk Pack',),\n",
       " ('Accos Thumb Tacks, Metal',),\n",
       " ('Acme 10\" Easy Grip Assistive Scissors',),\n",
       " ('Acme Box Cutter Scissors',),\n",
       " ('Acme Box Cutter, Easy Grip',),\n",
       " ('Acme Box Cutter, High Speed',),\n",
       " ('Acme Box Cutter, Serrated',),\n",
       " ('Acme Box Cutter, Steel',),\n",
       " ('Acme Design Line 8\" Stainless Steel Bent Scissors w/Champagne Handles, 3-1/8\" Cut',),\n",
       " ('Acme Design Stainless Steel Bent Scissors',),\n",
       " ('Acme Elite Stainless Steel Scissors',),\n",
       " ('Acme Forged Steel Scissors with Black Enamel Handles',),\n",
       " ('Acme Galleria Hot Forged Steel Scissors with Colored Handles',),\n",
       " ('Acme Hot Forged Carbon Steel Scissors with Nickel-Plated Handles, 3 7/8\" Cut, 8\"L',),\n",
       " ('Acme Kleen Earth Office Shears',),\n",
       " ('Acme Kleencut Forged Steel Scissors',),\n",
       " ('Acme Letter Opener, Easy Grip',),\n",
       " ('Acme Letter Opener, High Speed',),\n",
       " ('Acme Letter Opener, Serrated',),\n",
       " ('Acme Letter Opener, Steel',),\n",
       " ('Acme Office Executive Series Stainless Steel Trimmers',),\n",
       " ('Acme Preferred Stainless Steel Scissors',),\n",
       " ('Acme Rosewood Handle Letter Opener',),\n",
       " ('Acme Ruler, Easy Grip',),\n",
       " ('Acme Ruler, High Speed',),\n",
       " ('Acme Ruler, Serrated',),\n",
       " ('Acme Ruler, Steel',),\n",
       " ('Acme Scissors, Easy Grip',),\n",
       " ('Acme Scissors, High Speed',),\n",
       " ('Acme Scissors, Serrated',),\n",
       " ('Acme Scissors, Steel',),\n",
       " ('Acme Serrated Blade Letter Opener',),\n",
       " ('Acme Shears, Easy Grip',),\n",
       " ('Acme Shears, High Speed',),\n",
       " ('Acme Shears, Serrated',),\n",
       " ('Acme Shears, Steel',),\n",
       " ('Acme Softgrip Scissors',),\n",
       " ('Acme Stainless Steel Office Snips',),\n",
       " ('Acme Tagit Stainless Steel Antibacterial Scissors',),\n",
       " ('Acme Titanium Bonded Scissors',),\n",
       " ('Acme Trimmer, Easy Grip',),\n",
       " ('Acme Trimmer, High Speed',),\n",
       " ('Acme Trimmer, Serrated',),\n",
       " ('Acme Trimmer, Steel',),\n",
       " ('Acme Value Line Scissors',),\n",
       " ('Acrylic Self-Standing Desk Frames',),\n",
       " ('Adams \"While You Were Out\" Message Pads',),\n",
       " ('Adams Phone Message Book, 200 Message Capacity, 8 1/16” x 11”',),\n",
       " ('Adams Phone Message Book, Professional, 400 Message Capacity, 5 3/6” x 11”',),\n",
       " ('Adams Telephone Message Book W/Dividers/Space For Phone Numbers, 5 1/4\"X8 1/2\", 200/Messages',),\n",
       " ('Adams Telephone Message Book W/Dividers/Space For Phone Numbers, 5 1/4\"X8 1/2\", 300/Messages',),\n",
       " ('Adams Telephone Message Book w/Frequently-Called Numbers Space, 400 Messages per Book',),\n",
       " ('Adams Telephone Message Books, 5 1/4” x 11”',),\n",
       " ('Adams Write n  Stick Phone Message Book, 11\" X 5 1/4\", 200 Messages',),\n",
       " ('Adjustable Depth Letter/Legal Cart',),\n",
       " ('Adjustable Personal File Tote',),\n",
       " ('Adtran 1202752G1',),\n",
       " ('Advantus 10-Drawer Portable Organizer, Chrome Metal Frame, Smoke Drawers',),\n",
       " ('Advantus Clamps, 12 Pack',),\n",
       " ('Advantus Clamps, Assorted Sizes',),\n",
       " ('Advantus Clamps, Bulk Pack',),\n",
       " ('Advantus Clamps, Metal',),\n",
       " ('Advantus Clock, Black',),\n",
       " ('Advantus Clock, Duo Pack',),\n",
       " ('Advantus Clock, Durable',),\n",
       " ('Advantus Clock, Erganomic',),\n",
       " ('Advantus Door Stop, Black',),\n",
       " ('Advantus Door Stop, Duo Pack',),\n",
       " ('Advantus Door Stop, Durable',),\n",
       " ('Advantus Door Stop, Erganomic',),\n",
       " ('Advantus Employee of the Month Certificate Frame, 11 x 13-1/2',),\n",
       " ('Advantus Frame, Black',),\n",
       " ('Advantus Frame, Duo Pack',),\n",
       " ('Advantus Frame, Durable',),\n",
       " ('Advantus Frame, Erganomic',),\n",
       " ('Advantus Light Bulb, Black',),\n",
       " ('Advantus Light Bulb, Duo Pack',),\n",
       " ('Advantus Light Bulb, Durable',),\n",
       " ('Advantus Light Bulb, Erganomic',),\n",
       " ('Advantus Map Pennant Flags and Round Head Tacks',),\n",
       " ('Advantus Motivational Note Cards',),\n",
       " ('Advantus Panel Wall Acrylic Frame',),\n",
       " ('Advantus Panel Wall Certificate Holder - 8.5x11',),\n",
       " ('Advantus Paper Clips, Assorted Sizes',),\n",
       " ('Advantus Paper Clips, Bulk Pack',),\n",
       " ('Advantus Paper Clips, Metal',),\n",
       " ('Advantus Photo Frame, Black',),\n",
       " ('Advantus Photo Frame, Duo Pack',),\n",
       " ('Advantus Photo Frame, Durable',),\n",
       " ('Advantus Photo Frame, Erganomic',),\n",
       " ('Advantus Plastic Paper Clips',),\n",
       " ('Advantus Push Pins',),\n",
       " ('Advantus Push Pins, 12 Pack',),\n",
       " ('Advantus Push Pins, Aluminum Head',),\n",
       " ('Advantus Push Pins, Assorted Sizes',),\n",
       " ('Advantus Push Pins, Bulk Pack',),\n",
       " ('Advantus Push Pins, Metal',),\n",
       " ('Advantus Rolling Drawer Organizers',),\n",
       " ('Advantus Rolling Storage Box',),\n",
       " ('Advantus Rubber Bands, 12 Pack',),\n",
       " ('Advantus Rubber Bands, Assorted Sizes',),\n",
       " ('Advantus Rubber Bands, Bulk Pack',),\n",
       " ('Advantus Rubber Bands, Metal',),\n",
       " ('Advantus SlideClip Paper Clips',),\n",
       " ('Advantus Stacking Tray, Black',),\n",
       " ('Advantus Stacking Tray, Durable',),\n",
       " ('Advantus Stacking Tray, Erganomic',),\n",
       " ('Advantus Staples, 12 Pack',),\n",
       " ('Advantus Staples, Assorted Sizes',),\n",
       " ('Advantus Staples, Bulk Pack',),\n",
       " ('Advantus Staples, Metal',),\n",
       " ('Advantus T-Pin Paper Clips',),\n",
       " ('Advantus Thumb Tacks, 12 Pack',),\n",
       " ('Advantus Thumb Tacks, Assorted Sizes',),\n",
       " ('Advantus Thumb Tacks, Bulk Pack',),\n",
       " ('Advantus Thumb Tacks, Metal',),\n",
       " ('Airmail Envelopes',),\n",
       " ('Akro Stacking Bins',),\n",
       " ('Akro-Mils 12-Gallon Tote',),\n",
       " ('Alliance Big Bands Rubber Bands, 12/Pack',),\n",
       " ('Alliance Rubber Bands',),\n",
       " ('Alliance Super-Size Bands, Assorted Sizes',),\n",
       " ('Alphabetical Labels for Top Tab Filing',),\n",
       " ('Aluminum Document Frame',),\n",
       " ('Aluminum Screw Posts',),\n",
       " ('AmazonBasics 3-Button USB Wired Mouse',),\n",
       " ('American Pencil',),\n",
       " ('Ames Business Envelopes, Recycled',),\n",
       " ('Ames Business Envelopes, Security-Tint',),\n",
       " ('Ames Business Envelopes, Set of 50',),\n",
       " ('Ames Clasp Envelope, Recycled',),\n",
       " ('Ames Clasp Envelope, Security-Tint',),\n",
       " ('Ames Clasp Envelope, Set of 50',),\n",
       " ('Ames Clasp Envelope, with clear poly window',),\n",
       " ('Ames Color-File Green Diamond Border X-ray Mailers',),\n",
       " ('Ames Interoffice Envelope, Recycled',),\n",
       " ('Ames Interoffice Envelope, Security-Tint',),\n",
       " ('Ames Interoffice Envelope, Set of 50',),\n",
       " ('Ames Interoffice Envelope, with clear poly window',),\n",
       " ('Ames Mailers, Recycled',),\n",
       " ('Ames Mailers, Security-Tint',),\n",
       " ('Ames Mailers, Set of 50',),\n",
       " ('Ames Mailers, with clear poly window',),\n",
       " ('Ames Manila Envelope, Recycled',),\n",
       " ('Ames Manila Envelope, Security-Tint',),\n",
       " ('Ames Manila Envelope, Set of 50',),\n",
       " ('Ames Manila Envelope, with clear poly window',),\n",
       " ('Ames Peel and Seal, Recycled',),\n",
       " ('Ames Peel and Seal, Security-Tint',),\n",
       " ('Ames Peel and Seal, Set of 50',),\n",
       " ('Ames Peel and Seal, with clear poly window',),\n",
       " ('Ampad #10 Peel & Seel Holiday Envelopes',),\n",
       " ('Ampad Evidence Wirebond Steno Books, 6\" x 9\"',),\n",
       " ('Ampad Gold Fibre Wirebound Steno Books, 6\" x 9\", Gregg Ruled',),\n",
       " ('Ampad Phone Message Book, Recycled, 400 Message Capacity, 5 ¾” x 11”',),\n",
       " ('Ampad Poly Cover Wirebound Steno Book, 6\" x 9\" Assorted Colors, Gregg Ruled',),\n",
       " ('Anderson Hickey Conga Table Tops & Accessories',),\n",
       " ('Angle-D Binders with Locking Rings, Label Holders',),\n",
       " ('Angle-D Ring Binders',),\n",
       " ('Anker 24W Portable Micro USB Car Charger',),\n",
       " ('Anker 36W 4-Port USB Wall Charger Travel Power Adapter for iPhone 5s 5c 5',),\n",
       " ('Anker Astro 15000mAh USB Portable Charger',),\n",
       " ('Anker Astro Mini 3000mAh Ultra-Compact Portable Charger',),\n",
       " ('Anker Ultra-Slim Mini Bluetooth 3.0 Wireless Keyboard',),\n",
       " ('Anker Ultrathin Bluetooth Wireless Keyboard Aluminum Cover with Stand',),\n",
       " ('Apple Audio Dock, Cordless',),\n",
       " ('Apple Audio Dock, Full Size',),\n",
       " ('Apple Audio Dock, VoIP',),\n",
       " ('Apple Audio Dock, with Caller ID',),\n",
       " ('Apple EarPods with Remote and Mic',),\n",
       " ('Apple Headset, Cordless',),\n",
       " ('Apple Headset, Full Size',),\n",
       " ('Apple Headset, VoIP',),\n",
       " ('Apple Headset, with Caller ID',),\n",
       " ('Apple Office Telephone, Cordless',),\n",
       " ('Apple Office Telephone, Full Size',),\n",
       " ('Apple Office Telephone, VoIP',),\n",
       " ('Apple Office Telephone, with Caller ID',),\n",
       " ('Apple Signal Booster, Cordless',),\n",
       " ('Apple Signal Booster, Full Size',),\n",
       " ('Apple Signal Booster, VoIP',),\n",
       " ('Apple Signal Booster, with Caller ID',),\n",
       " ('Apple Smart Phone, Cordless',),\n",
       " ('Apple Smart Phone, Full Size',),\n",
       " ('Apple Smart Phone, with Caller ID',),\n",
       " ('Apple Speaker Phone, Cordless',),\n",
       " ('Apple Speaker Phone, Full Size',),\n",
       " ('Apple Speaker Phone, VoIP',),\n",
       " ('Apple Speaker Phone, with Caller ID',),\n",
       " ('Apple iPhone 5',),\n",
       " ('Apple iPhone 5C',),\n",
       " ('Apple iPhone 5S',),\n",
       " ('Array Memo Cubes',),\n",
       " ('Array Parchment Paper, Assorted Colors',),\n",
       " ('Artistic Insta-Plaque',),\n",
       " ('Assorted Color Push Pins',),\n",
       " ('Astroparche Fine Business Paper',),\n",
       " ('Ativa D5772 2-Line 5.8GHz Digital Expandable Corded/Cordless Phone System with Answering & Caller ID/Call Waiting, Black/Silver',),\n",
       " ('Ativa MDM8000 8-Sheet Micro-Cut Shredder',),\n",
       " ('Ativa V4110MDD Micro-Cut Shredder',),\n",
       " ('Atlantic Metals Mobile 2-Shelf Bookcases, Custom Colors',),\n",
       " ('Atlantic Metals Mobile 3-Shelf Bookcases, Custom Colors',),\n",
       " ('Atlantic Metals Mobile 4-Shelf Bookcases, Custom Colors',),\n",
       " ('Atlantic Metals Mobile 5-Shelf Bookcases, Custom Colors',),\n",
       " ('Avanti 1.7 Cu. Ft. Refrigerator',),\n",
       " ('Avanti 4.4 Cu. Ft. Refrigerator',),\n",
       " ('Avaya 4621SW VoIP phone',),\n",
       " ('Avaya 5410 Digital phone',),\n",
       " ('Avaya 5420 Digital phone',),\n",
       " ('Avaya IP Phone 1140E VoIP phone',),\n",
       " ('Avery 05222 Permanent Self-Adhesive File Folder Labels for Typewriters, on Rolls, White, 250/Roll',),\n",
       " ('Avery 3 1/2\" Diskette Storage Pages, 10/Pack',),\n",
       " ('Avery 3-Hole Punch, Clear',),\n",
       " ('Avery 3-Hole Punch, Durable',),\n",
       " ('Avery 3-Hole Punch, Economy',),\n",
       " ('Avery 3-Hole Punch, Recycled',),\n",
       " ('Avery 4027 File Folder Labels for Dot Matrix Printers, 5000 Labels per Box, White',),\n",
       " ('Avery 473',),\n",
       " ('Avery 474',),\n",
       " ('Avery 475',),\n",
       " ('Avery 476',),\n",
       " ('Avery 477',),\n",
       " ('Avery 478',),\n",
       " ('Avery 479',),\n",
       " ('Avery 48',),\n",
       " ('Avery 480',),\n",
       " ('Avery 481',),\n",
       " ('Avery 482',),\n",
       " ('Avery 483',),\n",
       " ('Avery 484',),\n",
       " ('Avery 485',),\n",
       " ('Avery 486',),\n",
       " ('Avery 487',),\n",
       " ('Avery 488',),\n",
       " ('Avery 489',),\n",
       " ('Avery 49',),\n",
       " ('Avery 490',),\n",
       " ('Avery 491',),\n",
       " ('Avery 492',),\n",
       " ('Avery 493',),\n",
       " ('Avery 494',),\n",
       " ('Avery 495',),\n",
       " ('Avery 496',),\n",
       " ('Avery 497',),\n",
       " ('Avery 498',),\n",
       " ('Avery 499',),\n",
       " ('Avery 5',),\n",
       " ('Avery 50',),\n",
       " ('Avery 500',),\n",
       " ('Avery 501',),\n",
       " ('Avery 502',),\n",
       " ('Avery 503',),\n",
       " ('Avery 505',),\n",
       " ('Avery 506',),\n",
       " ('Avery 507',),\n",
       " ('Avery 508',),\n",
       " ('Avery 509',),\n",
       " ('Avery 51',),\n",
       " ('Avery 510',),\n",
       " ('Avery 511',),\n",
       " ('Avery 512',),\n",
       " ('Avery 513',),\n",
       " ('Avery 514',),\n",
       " ('Avery 515',),\n",
       " ('Avery 516',),\n",
       " ('Avery 517',),\n",
       " ('Avery 518',),\n",
       " ('Avery 519',),\n",
       " ('Avery 52',),\n",
       " ('Avery 520',),\n",
       " ('Avery Address/Shipping Labels for Typewriters, 4\" x 2\"',),\n",
       " ('Avery Arch Ring Binders',),\n",
       " ('Avery Binder Covers, Clear',),\n",
       " ('Avery Binder Covers, Durable',),\n",
       " ('Avery Binder Covers, Economy',),\n",
       " ('Avery Binder Covers, Recycled',),\n",
       " ('Avery Binder Labels',),\n",
       " ('Avery Binder, Clear',),\n",
       " ('Avery Binder, Durable',),\n",
       " ('Avery Binder, Economy',),\n",
       " ('Avery Binder, Recycled',),\n",
       " ('Avery Binding Machine, Clear',),\n",
       " ('Avery Binding Machine, Durable',),\n",
       " ('Avery Binding Machine, Economy',),\n",
       " ('Avery Binding Machine, Recycled',),\n",
       " ('Avery Binding System Hidden Tab Executive Style Index Sets',),\n",
       " ('Avery Color Coded Labels, 5000 Label Set',),\n",
       " ('Avery Color Coded Labels, Adjustable',),\n",
       " ('Avery Color Coded Labels, Alphabetical',),\n",
       " ('Avery Color Coded Labels, Laser Printer Compatible',),\n",
       " ('Avery Durable Binders',),\n",
       " ('Avery Durable Plastic 1\" Binders',),\n",
       " ('Avery Durable Poly Binders',),\n",
       " ('Avery Durable Slant Ring Binders',),\n",
       " ('Avery Durable Slant Ring Binders With Label Holder',),\n",
       " ('Avery Durable Slant Ring Binders, No Labels',),\n",
       " ('Avery File Folder Labels',),\n",
       " ('Avery File Folder Labels, 5000 Label Set',),\n",
       " ('Avery File Folder Labels, Adjustable',),\n",
       " ('Avery File Folder Labels, Alphabetical',),\n",
       " ('Avery File Folder Labels, Laser Printer Compatible',),\n",
       " ('Avery Flip-Chart Easel Binder, Black',),\n",
       " ('Avery Fluorescent Highlighter Four-Color Set',),\n",
       " ('Avery Framed View Binder, EZD Ring (Locking), Navy, 1 1/2\"',),\n",
       " ('Avery Hanging File Binders',),\n",
       " ('Avery Heavy-Duty EZD  Binder With Locking Rings',),\n",
       " ('Avery Heavy-Duty EZD View Binder with Locking Rings',),\n",
       " ('Avery Hi-Liter Comfort Grip Fluorescent Highlighter, Yellow Ink',),\n",
       " ('Avery Hi-Liter EverBold Pen Style Fluorescent Highlighters, 4/Pack',),\n",
       " ('Avery Hi-Liter Fluorescent Desk Style Markers',),\n",
       " ('Avery Hi-Liter GlideStik Fluorescent Highlighter, Yellow Ink',),\n",
       " ('Avery Hi-Liter Pen Style Six-Color Fluorescent Set',),\n",
       " ('Avery Hi-Liter Smear-Safe Highlighters',),\n",
       " ('Avery Hidden Tab Dividers for Binding Systems',),\n",
       " ('Avery Hole Reinforcements',),\n",
       " ('Avery Hole Reinforcements, Clear',),\n",
       " ('Avery Hole Reinforcements, Durable',),\n",
       " ('Avery Hole Reinforcements, Economy',),\n",
       " ('Avery Hole Reinforcements, Recycled',),\n",
       " ('Avery Index Tab, Clear',),\n",
       " ('Avery Index Tab, Durable',),\n",
       " ('Avery Index Tab, Economy',),\n",
       " ('Avery Legal 4-Ring Binder',),\n",
       " ('Avery Legal Exhibit Labels, 5000 Label Set',),\n",
       " ('Avery Legal Exhibit Labels, Adjustable',),\n",
       " ('Avery Legal Exhibit Labels, Alphabetical',),\n",
       " ('Avery Legal Exhibit Labels, Laser Printer Compatible',),\n",
       " ('Avery Metallic Poly Binders',),\n",
       " ('Avery Non-Stick Binders',),\n",
       " ('Avery Non-Stick Heavy Duty View Round Locking Ring Binders',),\n",
       " ('Avery Personal Creations Heavyweight Cards',),\n",
       " ('Avery Poly Binder Pockets',),\n",
       " ('Avery Premier Heavy-Duty Binder with Round Locking Rings',),\n",
       " ('Avery Printable Repositionable Plastic Tabs',),\n",
       " ('Avery Recycled Flexi-View Covers for Binding Systems',),\n",
       " ('Avery Reinforcements for Hole-Punch Pages',),\n",
       " ('Avery Removable Labels, 5000 Label Set',),\n",
       " ('Avery Removable Labels, Adjustable',),\n",
       " ('Avery Removable Labels, Alphabetical',),\n",
       " ('Avery Removable Labels, Laser Printer Compatible',),\n",
       " ('Avery Round Labels, 5000 Label Set',),\n",
       " ('Avery Round Labels, Adjustable',),\n",
       " ('Avery Round Labels, Alphabetical',),\n",
       " ('Avery Round Labels, Laser Printer Compatible',),\n",
       " ('Avery Round Ring Poly Binders',),\n",
       " ('Avery Self-Adhesive Photo Pockets for Polaroid Photos',),\n",
       " ('Avery Shipping Labels, 5000 Label Set',),\n",
       " ('Avery Shipping Labels, Adjustable',),\n",
       " ('Avery Shipping Labels, Alphabetical',),\n",
       " ('Avery Shipping Labels, Laser Printer Compatible',),\n",
       " ('Avery Trapezoid Extra Heavy Duty 4\" Binders',),\n",
       " ('Avery Trapezoid Ring Binder, 3\" Capacity, Black, 1040 sheets',),\n",
       " ('Avery Triangle Shaped Sheet Lifters, Black, 2/Pack',),\n",
       " ('Avery White Multi-Purpose Labels',),\n",
       " ('Avoid Verbal Orders Carbonless Minifold Book',),\n",
       " ('BIC Brite Liner Grip Highlighters',),\n",
       " ('BIC Brite Liner Grip Highlighters, Assorted, 5/Pack',),\n",
       " ('BIC Brite Liner Highlighters',),\n",
       " ('BIC Brite Liner Highlighters, Chisel Tip',),\n",
       " ('BIC Canvas, Blue',),\n",
       " ('BIC Canvas, Easy-Erase',),\n",
       " ('BIC Canvas, Fluorescent',),\n",
       " ('BIC Canvas, Water Color',),\n",
       " ('BIC Highlighters, Blue',),\n",
       " ('BIC Highlighters, Easy-Erase',),\n",
       " ('BIC Highlighters, Fluorescent',),\n",
       " ('BIC Highlighters, Water Color',),\n",
       " ('BIC Liqua Brite Liner',),\n",
       " ('BIC Markers, Blue',),\n",
       " ('BIC Markers, Easy-Erase',),\n",
       " ('BIC Markers, Fluorescent',),\n",
       " ('BIC Markers, Water Color',),\n",
       " ('BIC Pencil Sharpener, Blue',),\n",
       " ('BIC Pencil Sharpener, Easy-Erase',),\n",
       " ('BIC Pencil Sharpener, Fluorescent',),\n",
       " ('BIC Pencil Sharpener, Water Color',),\n",
       " ('BIC Pens, Blue',),\n",
       " ('BIC Pens, Easy-Erase',),\n",
       " ('BIC Pens, Fluorescent',),\n",
       " ('BIC Pens, Water Color',),\n",
       " ('BIC Sketch Pad, Blue',),\n",
       " ('BIC Sketch Pad, Easy-Erase',),\n",
       " ('BIC Sketch Pad, Fluorescent',),\n",
       " ('BIC Sketch Pad, Water Color',),\n",
       " ('BOSTON Model 1800 Electric Pencil Sharpeners, Putty/Woodgrain',),\n",
       " ('BOSTON Ranger #55 Pencil Sharpener, Black',),\n",
       " ('BPI Conference Tables',),\n",
       " ('Bady BDG101FRU Card Printer',),\n",
       " ('Bagged Rubber Bands',),\n",
       " ('Balt Solid Wood Rectangular Table',),\n",
       " ('Balt Solid Wood Round Tables',),\n",
       " ('Balt Split Level Computer Training Table',),\n",
       " ('Barrel Sharpener',),\n",
       " ('Barricks 18\" x 48\" Non-Folding Utility Table with Bottom Storage Shelf',),\n",
       " ('Barricks Coffee Table, Adjustable Height',),\n",
       " ('Barricks Coffee Table, Fully Assembled',),\n",
       " ('Barricks Coffee Table, Rectangular',),\n",
       " ('Barricks Coffee Table, with Bottom Storage',),\n",
       " ('Barricks Computer Table, Adjustable Height',),\n",
       " ('Barricks Computer Table, Fully Assembled',),\n",
       " ('Barricks Computer Table, with Bottom Storage',),\n",
       " ('Barricks Conference Table, Adjustable Height',),\n",
       " ('Barricks Conference Table, Fully Assembled',),\n",
       " ('Barricks Conference Table, Rectangular',),\n",
       " ('Barricks Conference Table, with Bottom Storage',),\n",
       " ('Barricks Non-Folding Utility Table with Steel Legs, Laminate Tops',),\n",
       " ('Barricks Round Table, Adjustable Height',),\n",
       " ('Barricks Round Table, Fully Assembled',),\n",
       " ('Barricks Round Table, Rectangular',),\n",
       " ('Barricks Round Table, with Bottom Storage',),\n",
       " ('Barricks Training Table, Adjustable Height',),\n",
       " ('Barricks Training Table, Fully Assembled',),\n",
       " ('Barricks Training Table, Rectangular',),\n",
       " ('Barricks Training Table, with Bottom Storage',),\n",
       " ('Barricks Wood Table, Adjustable Height',),\n",
       " ('Barricks Wood Table, Fully Assembled',),\n",
       " ('Barricks Wood Table, Rectangular',),\n",
       " ('Barricks Wood Table, with Bottom Storage',),\n",
       " ('Belkin 19\" Center-Weighted Shelf, Gray',),\n",
       " ('Belkin 19\" Vented Equipment Shelf, Black',),\n",
       " ('Belkin 325VA UPS Surge Protector, 6 ',),\n",
       " ('Belkin 5 Outlet SurgeMaster Power Centers',),\n",
       " ('Belkin 6 Outlet Metallic Surge Strip',),\n",
       " ('Belkin 7 Outlet SurgeMaster II',),\n",
       " ('Belkin 7 Outlet SurgeMaster Surge Protector with Phone Protection',),\n",
       " ('Belkin 7-Outlet SurgeMaster Home Series',),\n",
       " ('Belkin 8 Outlet Surge Protector',),\n",
       " ('Belkin 8 Outlet SurgeMaster II Gold Surge Protector',),\n",
       " ('Belkin 8 Outlet SurgeMaster II Gold Surge Protector with Phone Protection',),\n",
       " ('Belkin 8-Outlet Premiere SurgeMaster II Surge Protectors',),\n",
       " ('Belkin F5C206VTEL 6 Outlet Surge',),\n",
       " ('Belkin F8E887 USB Wired Ergonomic Keyboard',),\n",
       " ('Belkin F9G930V10-GRY 9 Outlet Surge',),\n",
       " ('Belkin F9H710-06 7 Outlet SurgeMaster Surge Protector',),\n",
       " ('Belkin F9M820V08 8 Outlet Surge',),\n",
       " ('Belkin F9S820V06 8 Outlet Surge',),\n",
       " ('Belkin Flash Drive, Bluetooth',),\n",
       " ('Belkin Flash Drive, Erganomic',),\n",
       " ('Belkin Flash Drive, Programmable',),\n",
       " ('Belkin Flash Drive, USB',),\n",
       " ('Belkin Grip Candy Sheer Case / Cover for iPhone 5 and 5S',),\n",
       " ('Belkin Keyboard, Bluetooth',),\n",
       " ('Belkin Keyboard, Erganomic',),\n",
       " ('Belkin Keyboard, Programmable',),\n",
       " ('Belkin Keyboard, USB',),\n",
       " ('Belkin Memory Card, Bluetooth',),\n",
       " ('Belkin Memory Card, Erganomic',),\n",
       " ('Belkin Memory Card, Programmable',),\n",
       " ('Belkin Memory Card, USB',),\n",
       " ('Belkin Mouse, Bluetooth',),\n",
       " ('Belkin Mouse, Erganomic',),\n",
       " ('Belkin Mouse, Programmable',),\n",
       " ('Belkin Mouse, USB',),\n",
       " ('Belkin Numeric Keypad, Bluetooth',),\n",
       " ('Belkin Numeric Keypad, Erganomic',),\n",
       " ('Belkin Numeric Keypad, USB',),\n",
       " ('Belkin OmniView SE Rackmount Kit',),\n",
       " ('Belkin Premiere Surge Master II 8-outlet surge protector',),\n",
       " ('Belkin QODE FastFit Bluetooth Keyboard',),\n",
       " ('Belkin Router, Bluetooth',),\n",
       " ('Belkin Router, Erganomic',),\n",
       " ('Belkin Router, Programmable',),\n",
       " ('Belkin Router, USB',),\n",
       " ('Belkin SportFit Armband For iPhone 5s/5c, Fuchsia',),\n",
       " ('Belkin Standard 104 key USB Keyboard',),\n",
       " ('Belkin iPhone and iPad Lightning Cable',),\n",
       " ('Berol Giant Pencil Sharpener',),\n",
       " ('Bestar Classic Bookcase',),\n",
       " ('Bevis 36 x 72 Conference Tables',),\n",
       " ('Bevis 44 x 96 Conference Tables',),\n",
       " ('Bevis Boat-Shaped Conference Table',),\n",
       " ('Bevis Coffee Table, Adjustable Height',),\n",
       " ('Bevis Coffee Table, Fully Assembled',),\n",
       " ('Bevis Coffee Table, Rectangular',),\n",
       " ('Bevis Coffee Table, with Bottom Storage',),\n",
       " ('Bevis Computer Table, Adjustable Height',),\n",
       " ('Bevis Computer Table, Fully Assembled',),\n",
       " ('Bevis Computer Table, with Bottom Storage',),\n",
       " ('Bevis Conference Table, Fully Assembled',),\n",
       " ('Bevis Conference Table, Rectangular',),\n",
       " ('Bevis Conference Table, with Bottom Storage',),\n",
       " ('Bevis Oval Conference Table, Walnut',),\n",
       " ('Bevis Rectangular Conference Tables',),\n",
       " ('Bevis Round Bullnose 29\" High Table Top',),\n",
       " ('Bevis Round Conference Room Tables and Bases',),\n",
       " ('Bevis Round Conference Table Top & Single Column Base',),\n",
       " ('Bevis Round Conference Table Top, X-Base',),\n",
       " ('Bevis Round Table, Adjustable Height',),\n",
       " ('Bevis Round Table, Fully Assembled',),\n",
       " ('Bevis Round Table, Rectangular',),\n",
       " ('Bevis Round Table, with Bottom Storage',),\n",
       " ('Bevis Steel Folding Chairs',),\n",
       " ('Bevis Traditional Conference Table Top, Plinth Base',),\n",
       " ('Bevis Training Table, Adjustable Height',),\n",
       " ('Bevis Training Table, Fully Assembled',),\n",
       " ('Bevis Training Table, Rectangular',),\n",
       " ('Bevis Training Table, with Bottom Storage',),\n",
       " ('Bevis Wood Table, Adjustable Height',),\n",
       " ('Bevis Wood Table, Fully Assembled',),\n",
       " ('Bevis Wood Table, Rectangular',),\n",
       " ('Bevis Wood Table, with Bottom Storage',),\n",
       " ('Binder Clips by OIC',),\n",
       " ('Binder Posts',),\n",
       " ('Binding Machine Supplies',),\n",
       " ('Binney & Smith Canvas, Blue',),\n",
       " ('Binney & Smith Canvas, Easy-Erase',),\n",
       " ('Binney & Smith Canvas, Fluorescent',),\n",
       " ('Binney & Smith Canvas, Water Color',),\n",
       " ('Binney & Smith Crayola Metallic Colored Pencils, 8-Color Set',),\n",
       " ('Binney & Smith Crayola Metallic Crayons, 16-Color Pack',),\n",
       " ('Binney & Smith Highlighters, Blue',),\n",
       " ('Binney & Smith Highlighters, Easy-Erase',),\n",
       " ('Binney & Smith Highlighters, Fluorescent',),\n",
       " ('Binney & Smith Highlighters, Water Color',),\n",
       " ('Binney & Smith Markers, Blue',),\n",
       " ('Binney & Smith Markers, Easy-Erase',),\n",
       " ('Binney & Smith Markers, Fluorescent',),\n",
       " ('Binney & Smith Markers, Water Color',),\n",
       " ('Binney & Smith Pencil Sharpener, Easy-Erase',),\n",
       " ('Binney & Smith Pencil Sharpener, Fluorescent',),\n",
       " ('Binney & Smith Pencil Sharpener, Water Color',),\n",
       " ('Binney & Smith Pens, Blue',),\n",
       " ('Binney & Smith Pens, Easy-Erase',),\n",
       " ('Binney & Smith Pens, Fluorescent',),\n",
       " ('Binney & Smith Pens, Water Color',),\n",
       " ('Binney & Smith Sketch Pad, Blue',),\n",
       " ('Binney & Smith Sketch Pad, Easy-Erase',),\n",
       " ('Binney & Smith Sketch Pad, Fluorescent',),\n",
       " ('Binney & Smith Sketch Pad, Water Color',),\n",
       " ('Binney & Smith inkTank Desk Highlighter, Chisel Tip, Yellow, 12/Box',),\n",
       " ('Binney & Smith inkTank Erasable Desk Highlighter, Chisel Tip, Yellow, 12/Box',),\n",
       " ('Binney & Smith inkTank Erasable Pocket Highlighter, Chisel Tip, Yellow',),\n",
       " ('Bionaire 99.97% HEPA Air Cleaner',),\n",
       " ('Bionaire Personal Warm Mist Humidifier/Vaporizer',),\n",
       " ('Black & Decker Filter for Double Action Dustbuster Cordless Vac BLDV7210',),\n",
       " ('Black Avery Memo-Size 3-Ring Binder, 5 1/2\" x 8 1/2\"',),\n",
       " ('Black Print Carbonless 8 1/2\" x 8 1/4\" Rapid Memo Book',),\n",
       " ('Black Print Carbonless Snap-Off Rapid Letter, 8 1/2\" x 7\"',),\n",
       " ('BlackBerry Q10',),\n",
       " ('Blackstonian Pencils',),\n",
       " ('Blue Parrot B250XT Professional Grade Wireless Bluetooth\\xa0Headset\\xa0with',),\n",
       " ('Blue String-Tie & Button Interoffice Envelopes, 10 x 13',),\n",
       " ('BlueLounge Milo Smartphone Stand, White/Metallic',),\n",
       " ('Bose SoundLink Bluetooth Speaker',),\n",
       " ('Boston 1645 Deluxe Heavier-Duty Electric Pencil Sharpener',),\n",
       " ('Boston 16701 Slimline Battery Pencil Sharpener',),\n",
       " ('Boston 16750 Black Compact Battery Pencil Sharpener',),\n",
       " ('Boston 16765 Mini Stand Up Battery Pencil Sharpener',),\n",
       " ('Boston 16801 Nautilus Battery Pencil Sharpener',),\n",
       " ('Boston 1730 StandUp Electric Pencil Sharpener',),\n",
       " ('Boston 1799 Powerhouse Electric Pencil Sharpener',),\n",
       " ('Boston 1827 Commercial Additional Cutter, Drive Gear & Gear Rack for 1606',),\n",
       " ('Boston 1900 Electric Pencil Sharpener',),\n",
       " ('Boston 19500 Mighty Mite Electric Pencil Sharpener',),\n",
       " ('Boston Canvas, Blue',),\n",
       " ('Boston Canvas, Easy-Erase',),\n",
       " ('Boston Canvas, Fluorescent',),\n",
       " ('Boston Canvas, Water Color',),\n",
       " ('Boston Electric Pencil Sharpener, Model 1818, Charcoal Black',),\n",
       " ('Boston Heavy-Duty Trimline Electric Pencil Sharpeners',),\n",
       " ('Boston Highlighters, Blue',),\n",
       " ('Boston Highlighters, Easy-Erase',),\n",
       " ('Boston Highlighters, Fluorescent',),\n",
       " ('Boston Highlighters, Water Color',),\n",
       " ('Boston Home & Office Model 2000 Electric Pencil Sharpeners',),\n",
       " ('Boston KS Multi-Size Manual Pencil Sharpener',),\n",
       " ('Boston Markers, Blue',),\n",
       " ('Boston Markers, Easy-Erase',),\n",
       " ('Boston Markers, Fluorescent',),\n",
       " ('Boston Markers, Water Color',),\n",
       " ('Boston Model 1800 Electric Pencil Sharpener, Gray',),\n",
       " ('Boston Pencil Sharpener, Easy-Erase',),\n",
       " ('Boston Pencil Sharpener, Fluorescent',),\n",
       " ('Boston Pencil Sharpener, Water Color',),\n",
       " ('Boston Pens, Blue',),\n",
       " ('Boston Pens, Easy-Erase',),\n",
       " ('Boston Pens, Fluorescent',),\n",
       " ('Boston Pens, Water Color',),\n",
       " ('Boston School Pro Electric Pencil Sharpener, 1670',),\n",
       " ('Boston Sketch Pad, Blue',),\n",
       " ('Boston Sketch Pad, Easy-Erase',),\n",
       " ('Boston Sketch Pad, Fluorescent',),\n",
       " ('Boston Sketch Pad, Water Color',),\n",
       " ('BoxOffice By Design Rectangular and Half-Moon Meeting Room Tables',),\n",
       " ('Bravo II Megaboss 12-Amp Hard Body Upright, Replacement Belts, 2 Belts per Pack',),\n",
       " ('Bretford CR4500 Series Slim Rectangular Table',),\n",
       " ('Bretford CR8500 Series Meeting Room Furniture',),\n",
       " ('Bretford Rectangular Conference Table Tops',),\n",
       " ('Bretford “Just In Time” Height-Adjustable Multi-Task Work Tables',),\n",
       " ('Breville Blender, Black',),\n",
       " ('Breville Blender, Silver',),\n",
       " ('Breville Blender, White',),\n",
       " ('Breville Coffee Grinder, Black',),\n",
       " ('Breville Coffee Grinder, Red',),\n",
       " ('Breville Coffee Grinder, Silver',),\n",
       " ('Breville Coffee Grinder, White',),\n",
       " ('Breville Microwave, Black',),\n",
       " ('Breville Microwave, Red',),\n",
       " ('Breville Microwave, Silver',),\n",
       " ('Breville Microwave, White',),\n",
       " ('Breville Refrigerator, Black',),\n",
       " ('Breville Refrigerator, Red',),\n",
       " ('Breville Refrigerator, Silver',),\n",
       " ('Breville Refrigerator, White',),\n",
       " ('Breville Stove, Black',),\n",
       " ('Breville Stove, Red',),\n",
       " ('Breville Stove, Silver',),\n",
       " ('Breville Stove, White',),\n",
       " ('Breville Toaster, Black',),\n",
       " ('Breville Toaster, Red',),\n",
       " ('Breville Toaster, Silver',),\n",
       " ('Breville Toaster, White',),\n",
       " ('Brites Rubber Bands, 1 1/2 oz. Box',),\n",
       " ('Brother Copy Machine, Color',),\n",
       " ('Brother Copy Machine, High-Speed',),\n",
       " ('Brother Copy Machine, Laser',),\n",
       " ('Brother DCP1000 Digital 3 in 1 Multifunction Machine',),\n",
       " ('Brother Fax Machine, Color',),\n",
       " ('Brother Fax Machine, Digital',),\n",
       " ('Brother Fax Machine, High-Speed',),\n",
       " ('Brother Fax Machine, Laser',),\n",
       " ('Brother Fax and Copier, Color',),\n",
       " ('Brother Fax and Copier, Digital',),\n",
       " ('Brother Fax and Copier, High-Speed',),\n",
       " ('Brother Fax and Copier, Laser',),\n",
       " ('Brother Ink, Color',),\n",
       " ('Brother Ink, Digital',),\n",
       " ('Brother Ink, High-Speed',),\n",
       " ('Brother Ink, Laser',),\n",
       " ('Brother MFC-9340CDW LED All-In-One Printer, Copier Scanner',),\n",
       " ('Brother Personal Copier, Color',),\n",
       " ('Brother Personal Copier, Digital',),\n",
       " ('Brother Personal Copier, High-Speed',),\n",
       " ('Brother Personal Copier, Laser',),\n",
       " ('Brother Wireless Fax, Color',),\n",
       " ('Brother Wireless Fax, Digital',),\n",
       " ('Brother Wireless Fax, High-Speed',),\n",
       " ('Brother Wireless Fax, Laser',),\n",
       " ('Brown Kraft Recycled Envelopes',),\n",
       " ('Bulldog Table or Wall-Mount Pencil Sharpener',),\n",
       " ('Bulldog Vacuum Base Pencil Sharpener',),\n",
       " ('Bush 3-Shelf Cabinet, Metal',),\n",
       " ('Bush 3-Shelf Cabinet, Mobile',),\n",
       " ('Bush 3-Shelf Cabinet, Pine',),\n",
       " ('Bush 3-Shelf Cabinet, Traditional',),\n",
       " ('Bush Advantage Collection Racetrack Conference Table',),\n",
       " ('Bush Advantage Collection Round Conference Table',),\n",
       " ('Bush Andora Bookcase, Maple/Graphite Gray Finish',),\n",
       " ('Bush Andora Conference Table, Maple/Graphite Gray Finish',),\n",
       " ('Bush Birmingham Collection Bookcase, Dark Cherry',),\n",
       " ('Bush Classic Bookcase, Metal',),\n",
       " ('Bush Classic Bookcase, Mobile',),\n",
       " ('Bush Classic Bookcase, Pine',),\n",
       " ('Bush Classic Bookcase, Traditional',),\n",
       " ('Bush Corner Shelving, Metal',),\n",
       " ('Bush Corner Shelving, Mobile',),\n",
       " ('Bush Corner Shelving, Pine',),\n",
       " ('Bush Corner Shelving, Traditional',),\n",
       " ('Bush Cubix Collection Bookcases, Fully Assembled',),\n",
       " ('Bush Cubix Conference Tables, Fully Assembled',),\n",
       " ('Bush Floating Shelf Set, Metal',),\n",
       " ('Bush Floating Shelf Set, Mobile',),\n",
       " ('Bush Floating Shelf Set, Pine',),\n",
       " ('Bush Floating Shelf Set, Traditional',),\n",
       " ('Bush Heritage Pine Collection 5-Shelf Bookcase, Albany Pine Finish, *Special Order',),\n",
       " ('Bush Library with Doors, Metal',),\n",
       " ('Bush Library with Doors, Mobile',),\n",
       " ('Bush Library with Doors, Pine',),\n",
       " ('Bush Library with Doors, Traditional',),\n",
       " ('Bush Mission Pointe Library',),\n",
       " ('Bush Saratoga Collection 5-Shelf Bookcase, Hanover Cherry, *Special Order',),\n",
       " ('Bush Somerset Collection Bookcase',),\n",
       " ('Bush Stackable Bookrack, Mobile',),\n",
       " ('Bush Stackable Bookrack, Pine',),\n",
       " ('Bush Stackable Bookrack, Traditional',),\n",
       " ('Bush Westfield Collection Bookcases, Dark Cherry Finish',),\n",
       " ('Bush Westfield Collection Bookcases, Dark Cherry Finish, Fully Assembled',),\n",
       " ('Bush Westfield Collection Bookcases, Fully Assembled',),\n",
       " ('Bush Westfield Collection Bookcases, Medium Cherry Finish',),\n",
       " ('C-Line Cubicle Keepers Polyproplyene Holder With Velcro Backings',),\n",
       " ('C-Line Cubicle Keepers Polyproplyene Holder w/Velcro Back, 8-1/2x11, 25/Bx',),\n",
       " ('C-Line Magnetic Cubicle Keepers, Clear Polypropylene',),\n",
       " ('C-Line Peel & Stick Add-On Filing Pockets, 8-3/4 x 5-1/8, 10/Pack',),\n",
       " ('Cameo Buff Policy Envelopes',),\n",
       " ('Cameo Business Envelopes, Recycled',),\n",
       " ('Cameo Business Envelopes, Security-Tint',),\n",
       " ('Cameo Business Envelopes, Set of 50',),\n",
       " ('Cameo Clasp Envelope, Recycled',),\n",
       " ('Cameo Clasp Envelope, Security-Tint',),\n",
       " ('Cameo Clasp Envelope, Set of 50',),\n",
       " ('Cameo Clasp Envelope, with clear poly window',),\n",
       " ('Cameo Interoffice Envelope, Recycled',),\n",
       " ('Cameo Interoffice Envelope, Security-Tint',),\n",
       " ('Cameo Interoffice Envelope, Set of 50',),\n",
       " ('Cameo Interoffice Envelope, with clear poly window',),\n",
       " ('Cameo Mailers, Recycled',),\n",
       " ('Cameo Mailers, Security-Tint',),\n",
       " ('Cameo Mailers, Set of 50',),\n",
       " ('Cameo Mailers, with clear poly window',),\n",
       " ('Cameo Manila Envelope, Recycled',),\n",
       " ('Cameo Manila Envelope, Security-Tint',),\n",
       " ('Cameo Manila Envelope, Set of 50',),\n",
       " ('Cameo Manila Envelope, with clear poly window',),\n",
       " ('Cameo Peel and Seal, Recycled',),\n",
       " ('Cameo Peel and Seal, Security-Tint',),\n",
       " ('Cameo Peel and Seal, Set of 50',),\n",
       " ('Cameo Peel and Seal, with clear poly window',),\n",
       " ('Canon Color ImageCLASS MF8580Cdw Wireless Laser All-In-One Printer, Copier, Scanner',),\n",
       " ('Canon Copy Machine, Color',),\n",
       " ('Canon Copy Machine, Digital',),\n",
       " ('Canon Copy Machine, High-Speed',),\n",
       " ('Canon Copy Machine, Laser',),\n",
       " ('Canon Fax Machine, Color',),\n",
       " ('Canon Fax Machine, Digital',),\n",
       " ('Canon Fax Machine, High-Speed',),\n",
       " ('Canon Fax Machine, Laser',),\n",
       " ('Canon Fax and Copier, Color',),\n",
       " ('Canon Fax and Copier, Digital',),\n",
       " ('Canon Fax and Copier, High-Speed',),\n",
       " ('Canon Fax and Copier, Laser',),\n",
       " ('Canon Image Class D660 Copier',),\n",
       " ('Canon Imageclass D680 Copier / Fax',),\n",
       " ('Canon Ink, Color',),\n",
       " ('Canon Ink, Digital',),\n",
       " ('Canon Ink, High-Speed',),\n",
       " ('Canon Ink, Laser',),\n",
       " ('Canon PC-428 Personal Copier',),\n",
       " ('Canon PC1060 Personal Laser Copier',),\n",
       " ('Canon PC1080F Personal Copier',),\n",
       " ('Canon PC170 Desktop Personal Copier',),\n",
       " ('Canon PC940 Copier',),\n",
       " ('Canon Personal Copier, Color',),\n",
       " ('Canon Personal Copier, Digital',),\n",
       " ('Canon Personal Copier, High-Speed',),\n",
       " ('Canon Personal Copier, Laser',),\n",
       " ('Canon Wireless Fax, Color',),\n",
       " ('Canon Wireless Fax, Digital',),\n",
       " ('Canon Wireless Fax, High-Speed',),\n",
       " ('Canon Wireless Fax, Laser',),\n",
       " ('Canon imageCLASS 2200 Advanced Copier',),\n",
       " ('Canon imageCLASS MF7460 Monochrome Digital Laser Multifunction Copier',),\n",
       " ('Canvas Sectional Post Binders',),\n",
       " ('Cardinal 3-Hole Punch, Clear',),\n",
       " ('Cardinal 3-Hole Punch, Durable',),\n",
       " ('Cardinal 3-Hole Punch, Economy',),\n",
       " ('Cardinal 3-Hole Punch, Recycled',),\n",
       " ('Cardinal Binder Covers, Clear',),\n",
       " ('Cardinal Binder Covers, Durable',),\n",
       " ('Cardinal Binder Covers, Economy',),\n",
       " ('Cardinal Binder Covers, Recycled',),\n",
       " ('Cardinal Binder, Clear',),\n",
       " ('Cardinal Binder, Durable',),\n",
       " ('Cardinal Binder, Economy',),\n",
       " ('Cardinal Binder, Recycled',),\n",
       " ('Cardinal Binding Machine, Clear',),\n",
       " ('Cardinal Binding Machine, Durable',),\n",
       " ('Cardinal Binding Machine, Economy',),\n",
       " ('Cardinal Binding Machine, Recycled',),\n",
       " ('Cardinal EasyOpen D-Ring Binders',),\n",
       " ('Cardinal HOLDit! Binder Insert Strips,Extra Strips',),\n",
       " ('Cardinal Hold-It CD Pocket',),\n",
       " ('Cardinal Holdit Business Card Pockets',),\n",
       " ('Cardinal Holdit Data Disk Pockets',),\n",
       " ('Cardinal Hole Reinforcements, Clear',),\n",
       " ('Cardinal Hole Reinforcements, Durable',),\n",
       " ('Cardinal Hole Reinforcements, Economy',),\n",
       " ('Cardinal Hole Reinforcements, Recycled',),\n",
       " ('Cardinal Index Tab, Clear',),\n",
       " ('Cardinal Index Tab, Durable',),\n",
       " ('Cardinal Index Tab, Economy',),\n",
       " ('Cardinal Poly Pocket Divider Pockets for Ring Binders',),\n",
       " ('Cardinal Slant-D Ring Binder, Heavy Gauge Vinyl',),\n",
       " ('Cardinal Slant-D Ring Binders',),\n",
       " ('Career Cubicle Clock, 8 1/4\", Black',),\n",
       " ('Carina 42\"Hx23 3/4\"W Media Storage Unit',),\n",
       " ('Carina Double Wide Media Storage Towers in Natural & Black',),\n",
       " ('Carina Media Storage Towers in Natural & Black',),\n",
       " ('Carina Mini System Audio Rack, Model AR050B',),\n",
       " ('Case Logic 2.4GHz Wireless Keyboard',),\n",
       " ('Catalog Binders with Expanding Posts',),\n",
       " ('Cherry 142-key Programmable Keyboard',),\n",
       " ('Chromcraft 48\" x 96\" Racetrack Double Pedestal Table',),\n",
       " ('Chromcraft Bull-Nose Wood 48\" x 96\" Rectangular Conference Tables',),\n",
       " ('Chromcraft Bull-Nose Wood Oval Conference Tables & Bases',),\n",
       " ('Chromcraft Bull-Nose Wood Round Conference Table Top, Wood Base',),\n",
       " ('Chromcraft Coffee Table, Adjustable Height',),\n",
       " ('Chromcraft Coffee Table, Fully Assembled',),\n",
       " ('Chromcraft Coffee Table, Rectangular',),\n",
       " ('Chromcraft Coffee Table, with Bottom Storage',),\n",
       " ('Chromcraft Computer Table, Adjustable Height',),\n",
       " ('Chromcraft Computer Table, Fully Assembled',),\n",
       " ('Chromcraft Computer Table, Rectangular',),\n",
       " ('Chromcraft Computer Table, with Bottom Storage',),\n",
       " ('Chromcraft Conference Table, Adjustable Height',),\n",
       " ('Chromcraft Conference Table, Fully Assembled',),\n",
       " ('Chromcraft Conference Table, Rectangular',),\n",
       " ('Chromcraft Conference Table, with Bottom Storage',),\n",
       " ('Chromcraft Rectangular Conference Tables',),\n",
       " ('Chromcraft Round Conference Tables',),\n",
       " ('Chromcraft Round Table, Adjustable Height',),\n",
       " ('Chromcraft Round Table, Fully Assembled',),\n",
       " ('Chromcraft Round Table, Rectangular',),\n",
       " ('Chromcraft Round Table, with Bottom Storage',),\n",
       " ('Chromcraft Training Table, Adjustable Height',),\n",
       " ('Chromcraft Training Table, Fully Assembled',),\n",
       " ('Chromcraft Training Table, Rectangular',),\n",
       " ('Chromcraft Training Table, with Bottom Storage',),\n",
       " ('Chromcraft Wood Table, Adjustable Height',),\n",
       " ('Chromcraft Wood Table, Fully Assembled',),\n",
       " ('Chromcraft Wood Table, Rectangular',),\n",
       " ('Chromcraft Wood Table, with Bottom Storage',),\n",
       " ('Cisco 8961 IP Phone Charcoal',),\n",
       " ('Cisco 8x8 Inc. 6753i IP Business Phone System',),\n",
       " ('Cisco 9971 IP Video Phone Charcoal',),\n",
       " ('Cisco Audio Dock, Cordless',),\n",
       " ('Cisco Audio Dock, Full Size',),\n",
       " ('Cisco Audio Dock, VoIP',),\n",
       " ('Cisco Audio Dock, with Caller ID',),\n",
       " ('Cisco CP-7937G Unified IP Conference Station Phone',),\n",
       " ('Cisco Desktop Collaboration Experience DX650 IP Video Phone',),\n",
       " ('Cisco Headset, Cordless',),\n",
       " ('Cisco Headset, Full Size',),\n",
       " ('Cisco Headset, VoIP',),\n",
       " ('Cisco Headset, with Caller ID',),\n",
       " ('Cisco IP Phone 7961G-GE VoIP phone',),\n",
       " ('Cisco IP\\xa0Phone\\xa07961G VoIP\\xa0phone\\xa0- Dark gray',),\n",
       " ('Cisco Office Telephone, Cordless',),\n",
       " ('Cisco Office Telephone, Full Size',),\n",
       " ('Cisco Office Telephone, VoIP',),\n",
       " ('Cisco Office Telephone, with Caller ID',),\n",
       " ('Cisco SPA 501G IP Phone',),\n",
       " ('Cisco SPA 502G IP Phone',),\n",
       " ('Cisco SPA112 2 Port Phone Adapter',),\n",
       " ('Cisco SPA301',),\n",
       " ('Cisco SPA508G',),\n",
       " ('Cisco SPA525G2 5-Line IP Phone',),\n",
       " ('Cisco SPA525G2 IP Phone - Wireless',),\n",
       " ('Cisco Signal Booster, Cordless',),\n",
       " ('Cisco Signal Booster, Full Size',),\n",
       " ('Cisco Signal Booster, VoIP',),\n",
       " ('Cisco Signal Booster, with Caller ID',),\n",
       " ('Cisco Small Business SPA 502G VoIP phone',),\n",
       " ('Cisco Smart Phone, Cordless',),\n",
       " ('Cisco Smart Phone, Full Size',),\n",
       " ('Cisco Smart Phone, with Caller ID',),\n",
       " ('Cisco Speaker Phone, Cordless',),\n",
       " ('Cisco Speaker Phone, Full Size',),\n",
       " ('Cisco Speaker Phone, VoIP',),\n",
       " ('Cisco Speaker Phone, with Caller ID',),\n",
       " ('Cisco TelePresence System EX90 Videoconferencing Unit',),\n",
       " ('Cisco Unified IP Phone 7945G VoIP phone',),\n",
       " ('Clarity 53712',),\n",
       " ('Classic Ivory Antique\\xa0Telephone\\xa0ZL1810',),\n",
       " ('Clear Mylar Reinforcing Strips',),\n",
       " ('ClearOne CHATAttach 160 -\\xa0speaker phone',),\n",
       " ('ClearOne Communications CHAT 70 OC\\xa0Speaker Phone',),\n",
       " ('ClearSounds CSC500 Amplified Spirit Phone Corded phone',),\n",
       " ('Clearsounds A400',),\n",
       " ('Col-Erase Pencils with Erasers',),\n",
       " ('Color-Coded Legal Exhibit Labels',),\n",
       " ('Colored Envelopes',),\n",
       " ('Colored Push Pins',),\n",
       " ('Coloredge Poster Frame',),\n",
       " ('Colorific Watercolor Pencils',),\n",
       " ('Commercial WindTunnel Clean Air Upright Vacuum, Replacement Belts, Filtration Bags',),\n",
       " ('Compact Automatic Electric Letter Opener',),\n",
       " ('Companion Letter/Legal File, Black',),\n",
       " ('Computer Printout Index Tabs',),\n",
       " ('Computer Printout Paper with Letter-Trim Fine Perforations',),\n",
       " ('Computer Printout Paper with Letter-Trim Perforations',),\n",
       " ('Computer Room Manger, 14\"',),\n",
       " ('Conquest 14 Commercial Heavy-Duty Upright Vacuum, Collection System, Accessory Kit',),\n",
       " ('Contemporary Borderless Frame',),\n",
       " ...]"
      ]
     },
     "execution_count": 153,
     "metadata": {},
     "output_type": "execute_result"
    }
   ],
   "source": [
    "res"
   ]
  },
  {
   "cell_type": "code",
   "execution_count": 132,
   "metadata": {},
   "outputs": [
    {
     "data": {
      "text/plain": [
       "51290"
      ]
     },
     "execution_count": 132,
     "metadata": {},
     "output_type": "execute_result"
    }
   ],
   "source": [
    "len(dfProduct)"
   ]
  },
  {
   "cell_type": "code",
   "execution_count": 162,
   "metadata": {},
   "outputs": [
    {
     "name": "stdout",
     "output_type": "stream",
     "text": [
      "SELECT `Country`, COUNT(*) FROM productDimension WHERE `Product Name`=\"Avaya 5410 Digital phone\"Group By `Country` Order By COUNT(*) DESC LIMIT 10\n"
     ]
    },
    {
     "data": {
      "text/plain": [
       "'static\\\\country_prod_chart1.png'"
      ]
     },
     "execution_count": 162,
     "metadata": {},
     "output_type": "execute_result"
    },
    {
     "data": {
      "image/png": "[encoded data removed]",
      "text/plain": [
       "<Figure size 432x288 with 1 Axes>"
      ]
     },
     "metadata": {
      "needs_background": "light"
     },
     "output_type": "display_data"
    }
   ],
   "source": [
    "product = 'Hon Bag Chairs, Set of Two'\n",
    "\n",
    "def get_top_country_counts_chart(product,engine=engine):\n",
    "    #query = 'SELECT `Country`, COUNT(*) FROM productDimension WHERE `Product Name`=\"Acco Index Tab, Clear\" Group By `Country` Order By COUNT(*) DESC LIMIT 10'\n",
    "\n",
    "    query = 'SELECT `Country`, COUNT(*) FROM productDimension WHERE `Product Name`='\n",
    "    query += '\\\"'\n",
    "    query += str(product)\n",
    "    query += '\\\"'\n",
    "    query += 'Group By `Country` Order By COUNT(*) DESC LIMIT 10'\n",
    "    #query = 'SELECT COUNT(*) FROM productDimension WHERE `Product Name`=' +'\"'+str(product)+'\"'\n",
    "    print(query)\n",
    "    res = engine.execute(query).fetchall()\n",
    "    res\n",
    "\n",
    "    top_country_list = []\n",
    "    top_country_values = []\n",
    "    for item in res:\n",
    "        top_country_list.append(item[0])\n",
    "        top_country_values.append(item[1])\n",
    "    #top_country_values,top_country_list\n",
    "\n",
    "\n",
    "    filepath = 'static' + '\\country_prod_chart1.png'\n",
    "    plt.title(product)\n",
    "    plt.ylabel('# of Transactions') \n",
    "    plt.xticks(rotation = 45,ha='right') # Rotates X-Axis Ticks by 45-degrees\n",
    "    plt.bar(top_country_list,top_country_values)\n",
    "    plt.savefig(filepath)\n",
    "    return filepath\n",
    "\n",
    "    \n",
    "\n",
    "\n",
    "get_top_country_counts_chart(product='Avaya 5410 Digital phone')"
   ]
  },
  {
   "cell_type": "code",
   "execution_count": 186,
   "metadata": {},
   "outputs": [
    {
     "data": {
      "text/plain": [
       "Index(['Category', 'City', 'Country', 'Customer ID', 'Customer Name',\n",
       "       'Discount', 'Market', '记录数', 'Order Date', 'Order ID', 'Order Priority',\n",
       "       'Product ID', 'Product Name', 'Profit', 'Quantity', 'Region', 'Row ID',\n",
       "       'Sales', 'Segment', 'Ship Date', 'Ship Mode', 'Shipping Cost', 'State',\n",
       "       'Sub-Category', 'Year', 'Market2', 'weeknum', 'order_date_month'],\n",
       "      dtype='object')"
      ]
     },
     "execution_count": 186,
     "metadata": {},
     "output_type": "execute_result"
    }
   ],
   "source": [
    "data.columns"
   ]
  },
  {
   "cell_type": "code",
   "execution_count": null,
   "metadata": {},
   "outputs": [],
   "source": []
  },
  {
   "cell_type": "code",
   "execution_count": 17,
   "metadata": {},
   "outputs": [
    {
     "data": {
      "text/html": [
       "<div>\n",
       "<style scoped>\n",
       "    .dataframe tbody tr th:only-of-type {\n",
       "        vertical-align: middle;\n",
       "    }\n",
       "\n",
       "    .dataframe tbody tr th {\n",
       "        vertical-align: top;\n",
       "    }\n",
       "\n",
       "    .dataframe thead th {\n",
       "        text-align: right;\n",
       "    }\n",
       "</style>\n",
       "<table border=\"1\" class=\"dataframe\">\n",
       "  <thead>\n",
       "    <tr style=\"text-align: right;\">\n",
       "      <th></th>\n",
       "      <th>Order Date</th>\n",
       "      <th>Ship Date</th>\n",
       "      <th>Order Priority</th>\n",
       "      <th>Year</th>\n",
       "      <th>weeknum</th>\n",
       "      <th>order_date_month</th>\n",
       "    </tr>\n",
       "  </thead>\n",
       "  <tbody>\n",
       "    <tr>\n",
       "      <th>0</th>\n",
       "      <td>2011-01-07 00:00:00.000</td>\n",
       "      <td>2011-01-09 00:00:00.000</td>\n",
       "      <td>High</td>\n",
       "      <td>2011</td>\n",
       "      <td>2</td>\n",
       "      <td>01</td>\n",
       "    </tr>\n",
       "    <tr>\n",
       "      <th>1</th>\n",
       "      <td>2011-01-21 00:00:00.000</td>\n",
       "      <td>2011-01-26 00:00:00.000</td>\n",
       "      <td>Medium</td>\n",
       "      <td>2011</td>\n",
       "      <td>4</td>\n",
       "      <td>01</td>\n",
       "    </tr>\n",
       "    <tr>\n",
       "      <th>2</th>\n",
       "      <td>2011-08-05 00:00:00.000</td>\n",
       "      <td>2011-08-09 00:00:00.000</td>\n",
       "      <td>Medium</td>\n",
       "      <td>2011</td>\n",
       "      <td>32</td>\n",
       "      <td>08</td>\n",
       "    </tr>\n",
       "    <tr>\n",
       "      <th>3</th>\n",
       "      <td>2011-08-05 00:00:00.000</td>\n",
       "      <td>2011-08-09 00:00:00.000</td>\n",
       "      <td>Medium</td>\n",
       "      <td>2011</td>\n",
       "      <td>32</td>\n",
       "      <td>08</td>\n",
       "    </tr>\n",
       "    <tr>\n",
       "      <th>4</th>\n",
       "      <td>2011-09-29 00:00:00.000</td>\n",
       "      <td>2011-10-03 00:00:00.000</td>\n",
       "      <td>High</td>\n",
       "      <td>2011</td>\n",
       "      <td>40</td>\n",
       "      <td>09</td>\n",
       "    </tr>\n",
       "  </tbody>\n",
       "</table>\n",
       "</div>"
      ],
      "text/plain": [
       "                Order Date                Ship Date Order Priority  Year  \\\n",
       "0  2011-01-07 00:00:00.000  2011-01-09 00:00:00.000           High  2011   \n",
       "1  2011-01-21 00:00:00.000  2011-01-26 00:00:00.000         Medium  2011   \n",
       "2  2011-08-05 00:00:00.000  2011-08-09 00:00:00.000         Medium  2011   \n",
       "3  2011-08-05 00:00:00.000  2011-08-09 00:00:00.000         Medium  2011   \n",
       "4  2011-09-29 00:00:00.000  2011-10-03 00:00:00.000           High  2011   \n",
       "\n",
       "   weeknum order_date_month  \n",
       "0        2               01  \n",
       "1        4               01  \n",
       "2       32               08  \n",
       "3       32               08  \n",
       "4       40               09  "
      ]
     },
     "execution_count": 17,
     "metadata": {},
     "output_type": "execute_result"
    }
   ],
   "source": [
    "dfTime.head()"
   ]
  },
  {
   "cell_type": "code",
   "execution_count": 18,
   "metadata": {},
   "outputs": [],
   "source": [
    "from helpers import *"
   ]
  },
  {
   "cell_type": "code",
   "execution_count": 29,
   "metadata": {},
   "outputs": [
    {
     "name": "stdout",
     "output_type": "stream",
     "text": [
      "['High', 'Medium', 'Critical', 'Low'] [1, 2, 3, 4, 5, 6, 7, 8, 9, 10, 11, 12, 13, 14, 15, 16, 17, 18, 19, 20, 21, 22, 23, 24, 25, 26, 27, 28, 29, 30, 31, 32, 33, 34, 35, 36, 37, 38, 39, 40, 41, 42, 43, 44, 45, 46, 47, 48, 49, 50, 51, 52, 53]\n"
     ]
    }
   ],
   "source": [
    "# short\n",
    "time_selection = 'weeknum'\n",
    "column = 'Order Priority'\n",
    "\n",
    "column_values = []\n",
    "time_selection_values=[]\n",
    "query_str = 'SELECT DISTINCT `' + str(column) + '` FROM timeDimension;'\n",
    "res = engine.execute(query_str).fetchall()\n",
    "for item in res:\n",
    "    column_values.append(item[0])\n",
    "\n",
    "query_str = 'SELECT DISTINCT `' + str(time_selection) + '` FROM timeDimension ORDER BY `' +str(time_selection) + '` ASC'\n",
    "res = engine.execute(query_str).fetchall()\n",
    "for item in res:\n",
    "    time_selection_values.append(item[0])\n",
    "print(column_values,time_selection_values)   "
   ]
  },
  {
   "cell_type": "code",
   "execution_count": 40,
   "metadata": {},
   "outputs": [
    {
     "name": "stdout",
     "output_type": "stream",
     "text": [
      "{'1 High': 119, '1 Medium': 216, '1 Critical': 29, '1 Low': 17, '2 High': 184, '2 Medium': 296, '2 Critical': 32, '2 Low': 38, '3 High': 169, '3 Medium': 365, '3 Critical': 42, '3 Low': 28, '4 High': 146, '4 Medium': 373, '4 Critical': 30, '4 Low': 19, '5 High': 180, '5 Medium': 326, '5 Critical': 42, '5 Low': 20, '6 High': 160, '6 Medium': 279, '6 Critical': 60, '6 Low': 28, '7 High': 156, '7 Medium': 370, '7 Critical': 44, '7 Low': 22, '8 High': 145, '8 Medium': 329, '8 Critical': 31, '8 Low': 31, '9 High': 146, '9 Medium': 337, '9 Critical': 26, '9 Low': 34, '10 High': 222, '10 Medium': 381, '10 Critical': 48, '10 Low': 28, '11 High': 206, '11 Medium': 395, '11 Critical': 67, '11 Low': 29, '12 High': 248, '12 Medium': 421, '12 Critical': 51, '12 Low': 25, '13 High': 214, '13 Medium': 351, '13 Critical': 59, '13 Low': 25, '14 High': 220, '14 Medium': 381, '14 Critical': 77, '14 Low': 33, '15 High': 235, '15 Medium': 387, '15 Critical': 51, '15 Low': 51, '16 High': 203, '16 Medium': 452, '16 Critical': 54, '16 Low': 33, '17 High': 215, '17 Medium': 409, '17 Critical': 53, '17 Low': 37, '18 High': 217, '18 Medium': 384, '18 Critical': 59, '18 Low': 32, '19 High': 308, '19 Medium': 512, '19 Critical': 83, '19 Low': 33, '20 High': 271, '20 Medium': 485, '20 Critical': 41, '20 Low': 24, '21 High': 241, '21 Medium': 458, '21 Critical': 71, '21 Low': 42, '22 High': 241, '22 Medium': 541, '22 Critical': 55, '22 Low': 54, '23 High': 351, '23 Medium': 689, '23 Critical': 72, '23 Low': 41, '24 High': 422, '24 Medium': 748, '24 Critical': 103, '24 Low': 64, '25 High': 407, '25 Medium': 690, '25 Critical': 77, '25 Low': 54, '26 High': 409, '26 Medium': 698, '26 Critical': 103, '26 Low': 71, '27 High': 253, '27 Medium': 465, '27 Critical': 70, '27 Low': 49, '28 High': 216, '28 Medium': 426, '28 Critical': 67, '28 Low': 19, '29 High': 198, '29 Medium': 387, '29 Critical': 46, '29 Low': 33, '30 High': 223, '30 Medium': 384, '30 Critical': 85, '30 Low': 28, '31 High': 243, '31 Medium': 483, '31 Critical': 78, '31 Low': 52, '32 High': 340, '32 Medium': 651, '32 Critical': 108, '32 Low': 48, '33 High': 329, '33 Medium': 724, '33 Critical': 75, '33 Low': 60, '34 High': 289, '34 Medium': 715, '34 Critical': 81, '34 Low': 81, '35 High': 360, '35 Medium': 626, '35 Critical': 77, '35 Low': 56, '36 High': 443, '36 Medium': 754, '36 Critical': 106, '36 Low': 55, '37 High': 409, '37 Medium': 765, '37 Critical': 126, '37 Low': 50, '38 High': 457, '38 Medium': 802, '38 Critical': 118, '38 Low': 76, '39 High': 418, '39 Medium': 857, '39 Critical': 98, '39 Low': 53, '40 High': 391, '40 Medium': 602, '40 Critical': 58, '40 Low': 67, '41 High': 295, '41 Medium': 539, '41 Critical': 84, '41 Low': 22, '42 High': 330, '42 Medium': 576, '42 Critical': 59, '42 Low': 52, '43 High': 294, '43 Medium': 624, '43 Critical': 75, '43 Low': 53, '44 High': 323, '44 Medium': 617, '44 Critical': 75, '44 Low': 38, '45 High': 420, '45 Medium': 880, '45 Critical': 137, '45 Low': 71, '46 High': 471, '46 Medium': 878, '46 Critical': 112, '46 Low': 63, '47 High': 414, '47 Medium': 901, '47 Critical': 109, '47 Low': 103, '48 High': 459, '48 Medium': 787, '48 Critical': 114, '48 Low': 81, '49 High': 420, '49 Medium': 850, '49 Critical': 119, '49 Low': 51, '50 High': 419, '50 Medium': 785, '50 Critical': 116, '50 Low': 58, '51 High': 434, '51 Medium': 776, '51 Critical': 108, '51 Low': 63, '52 High': 383, '52 Medium': 886, '52 Critical': 99, '52 Low': 93, '53 High': 235, '53 Medium': 420, '53 Critical': 72, '53 Low': 36}\n"
     ]
    }
   ],
   "source": [
    "year = 2001\n",
    "column1=time_selection\n",
    "column2=column\n",
    "column1_labels=time_selection_values\n",
    "column2_labels=column_values\n",
    "data_dict = {}\n",
    "\n",
    "for i in range(len(column1_labels)):\n",
    "    for j in range(len(column2_labels)):\n",
    "        \n",
    "\n",
    "        query = 'SELECT COUNT(`' + str(column1) + '`) '\n",
    "        query += 'FROM timeDimension WHERE `' +str(column2)+'`= \\'' + str(column2_labels[j])+ '\\' AND `' +str(column1)+'`= \\'' + str(column1_labels[i])+'\\''\n",
    "        #print(query)\n",
    "    \n",
    "        #print(query)\n",
    "        res = engine.execute(query).fetchall()\n",
    "        #print(res[0][0])\n",
    "        data_dict[ str(column1_labels[i]) + ' ' + str(column2_labels[j])] = res[0][0]\n",
    "\n",
    "\n",
    "print(data_dict)\n"
   ]
  },
  {
   "cell_type": "code",
   "execution_count": 51,
   "metadata": {},
   "outputs": [
    {
     "name": "stdout",
     "output_type": "stream",
     "text": [
      "['Critical', 'High', 'Low', 'Medium']\n"
     ]
    },
    {
     "data": {
      "text/plain": [
       "[[29, 119, 17, 216],\n",
       " [32, 184, 38, 296],\n",
       " [42, 169, 28, 365],\n",
       " [30, 146, 19, 373],\n",
       " [42, 180, 20, 326],\n",
       " [60, 160, 28, 279],\n",
       " [44, 156, 22, 370],\n",
       " [31, 145, 31, 329],\n",
       " [26, 146, 34, 337],\n",
       " [48, 222, 28, 381],\n",
       " [67, 206, 29, 395],\n",
       " [51, 248, 25, 421],\n",
       " [59, 214, 25, 351],\n",
       " [77, 220, 33, 381],\n",
       " [51, 235, 51, 387],\n",
       " [54, 203, 33, 452],\n",
       " [53, 215, 37, 409],\n",
       " [59, 217, 32, 384],\n",
       " [83, 308, 33, 512],\n",
       " [41, 271, 24, 485],\n",
       " [71, 241, 42, 458],\n",
       " [55, 241, 54, 541],\n",
       " [72, 351, 41, 689],\n",
       " [103, 422, 64, 748],\n",
       " [77, 407, 54, 690],\n",
       " [103, 409, 71, 698],\n",
       " [70, 253, 49, 465],\n",
       " [67, 216, 19, 426],\n",
       " [46, 198, 33, 387],\n",
       " [85, 223, 28, 384],\n",
       " [78, 243, 52, 483],\n",
       " [108, 340, 48, 651],\n",
       " [75, 329, 60, 724],\n",
       " [81, 289, 81, 715],\n",
       " [77, 360, 56, 626],\n",
       " [106, 443, 55, 754],\n",
       " [126, 409, 50, 765],\n",
       " [118, 457, 76, 802],\n",
       " [98, 418, 53, 857],\n",
       " [58, 391, 67, 602],\n",
       " [84, 295, 22, 539],\n",
       " [59, 330, 52, 576],\n",
       " [75, 294, 53, 624],\n",
       " [75, 323, 38, 617],\n",
       " [137, 420, 71, 880],\n",
       " [112, 471, 63, 878],\n",
       " [109, 414, 103, 901],\n",
       " [114, 459, 81, 787],\n",
       " [119, 420, 51, 850],\n",
       " [116, 419, 58, 785],\n",
       " [108, 434, 63, 776],\n",
       " [99, 383, 93, 886],\n",
       " [72, 235, 36, 420]]"
      ]
     },
     "execution_count": 51,
     "metadata": {},
     "output_type": "execute_result"
    }
   ],
   "source": [
    "lst=[]\n",
    "list_2011_2014 = []\n",
    "list_of_lst = []\n",
    "used=[]\n",
    "x_labels = column2_labels\n",
    "print(x_labels)\n",
    "for i in range(len(column1_labels)):\n",
    "    lst=[]\n",
    "    for j in range(len(column2_labels)):\n",
    "        lst.append(data_dict[str(column1_labels[i]) + ' ' +str(column2_labels[j])])\n",
    "    list_of_lst.append(lst)\n",
    "    \n",
    "    #print(lst)\n",
    "\n",
    "list_of_lst"
   ]
  },
  {
   "cell_type": "code",
   "execution_count": 53,
   "metadata": {},
   "outputs": [
    {
     "data": {
      "text/plain": [
       "4"
      ]
     },
     "execution_count": 53,
     "metadata": {},
     "output_type": "execute_result"
    }
   ],
   "source": [
    "list_of_lists_transpose = list(map(list, itertools.zip_longest(*list_of_lst, fillvalue=None)))\n",
    "len(list_of_lists_transpose)"
   ]
  },
  {
   "cell_type": "code",
   "execution_count": 62,
   "metadata": {},
   "outputs": [
    {
     "data": {
      "text/plain": [
       "list"
      ]
     },
     "execution_count": 62,
     "metadata": {},
     "output_type": "execute_result"
    }
   ],
   "source": [
    "type(list_of_lists_transpose)"
   ]
  },
  {
   "cell_type": "code",
   "execution_count": 66,
   "metadata": {},
   "outputs": [
    {
     "data": {
      "text/plain": [
       "53"
      ]
     },
     "execution_count": 66,
     "metadata": {},
     "output_type": "execute_result"
    }
   ],
   "source": [
    "len(list_of_lst)"
   ]
  },
  {
   "cell_type": "code",
   "execution_count": 79,
   "metadata": {},
   "outputs": [
    {
     "data": {
      "text/plain": [
       "[0, 0, 0, 0]"
      ]
     },
     "execution_count": 79,
     "metadata": {},
     "output_type": "execute_result"
    }
   ],
   "source": [
    "bottom = [0] * len(column2_labels)\n",
    "bottom"
   ]
  },
  {
   "cell_type": "code",
   "execution_count": 78,
   "metadata": {},
   "outputs": [
    {
     "data": {
      "text/plain": [
       "<matplotlib.legend.Legend at 0x2a8e0635f70>"
      ]
     },
     "execution_count": 78,
     "metadata": {},
     "output_type": "execute_result"
    },
    {
     "data": {
      "image/png": "[encoded data removed]",
      "text/plain": [
       "<Figure size 432x288 with 1 Axes>"
      ]
     },
     "metadata": {
      "needs_background": "light"
     },
     "output_type": "display_data"
    }
   ],
   "source": [
    "plt.bar(column1_labels,list_of_lists_transpose[i],label=str(column2_labels[i]))\n",
    "plt.legend()"
   ]
  },
  {
   "cell_type": "code",
   "execution_count": 82,
   "metadata": {},
   "outputs": [
    {
     "data": {
      "text/plain": [
       "53"
      ]
     },
     "execution_count": 82,
     "metadata": {},
     "output_type": "execute_result"
    }
   ],
   "source": [
    "len(column1_labels)"
   ]
  },
  {
   "cell_type": "code",
   "execution_count": 85,
   "metadata": {},
   "outputs": [
    {
     "data": {
      "image/png": "[encoded data removed]",
      "text/plain": [
       "<Figure size 720x432 with 1 Axes>"
      ]
     },
     "metadata": {
      "needs_background": "light"
     },
     "output_type": "display_data"
    }
   ],
   "source": [
    "\n",
    "\n",
    "\n",
    "list_of_lists_transpose = list(map(list, itertools.zip_longest(*list_of_lst, fillvalue=None)))\n",
    "\n",
    "\n",
    "\n",
    "bottom = [0] * len(list_of_lists_transpose[0])\n",
    "used=[]\n",
    "fig = plt.figure(figsize=(10,6))\n",
    "\n",
    "for i in range(len(column2_labels)):\n",
    "    plt.bar(column1_labels,list_of_lists_transpose[i],bottom=bottom,label=str(column2_labels[i]))\n",
    "    used.append(list_of_lists_transpose[i])\n",
    "    bottom = [sum(x) for x in zip(*used)]\n",
    "\n",
    "plt.xlabel(str(column1))\n",
    "plt.ylabel('# of Orders')\n",
    "plt.title(str(column1) +' v ' +str(column2) +' Frequencies')\n",
    "plt.legend()\n",
    "fig.subplots_adjust(bottom=0.4)\n",
    "filepath = 'static' + '\\\\timeFreqBarChart1.png'\n",
    "plt.savefig(filepath)\n",
    "\n",
    "        \n"
   ]
  },
  {
   "cell_type": "code",
   "execution_count": null,
   "metadata": {},
   "outputs": [],
   "source": []
  },
  {
   "cell_type": "code",
   "execution_count": null,
   "metadata": {},
   "outputs": [],
   "source": []
  },
  {
   "cell_type": "code",
   "execution_count": null,
   "metadata": {},
   "outputs": [],
   "source": []
  },
  {
   "cell_type": "code",
   "execution_count": null,
   "metadata": {},
   "outputs": [],
   "source": []
  },
  {
   "cell_type": "code",
   "execution_count": 38,
   "metadata": {},
   "outputs": [
    {
     "data": {
      "text/plain": [
       "'static\\\\freqBarChart1.png'"
      ]
     },
     "execution_count": 38,
     "metadata": {},
     "output_type": "execute_result"
    },
    {
     "data": {
      "image/png": "[encoded data removed]",
      "text/plain": [
       "<Figure size 720x432 with 1 Axes>"
      ]
     },
     "metadata": {
      "needs_background": "light"
     },
     "output_type": "display_data"
    }
   ],
   "source": [
    "get_2D_freq_stacked_bar(column1='weeknum',column2='Order Priority',engine=engine)"
   ]
  },
  {
   "cell_type": "code",
   "execution_count": null,
   "metadata": {},
   "outputs": [],
   "source": []
  },
  {
   "cell_type": "code",
   "execution_count": null,
   "metadata": {},
   "outputs": [],
   "source": []
  },
  {
   "cell_type": "code",
   "execution_count": 88,
   "metadata": {},
   "outputs": [],
   "source": [
    "\n",
    "def get_time_freq_bar_chart_all(time_selection,column,year,engine,filename='time_chart2.png'):\n",
    "\n",
    "    time_selection = 'weeknum'\n",
    "    column = 'Order Priority'\n",
    "    year = 2001\n",
    "\n",
    "\n",
    "\n",
    "    column_values = []\n",
    "    time_selection_values=[]\n",
    "    query_str = 'SELECT DISTINCT `' + str(column) + '` FROM timeDimension;'\n",
    "    res = engine.execute(query_str).fetchall()\n",
    "    for item in res:\n",
    "        column_values.append(item[0])\n",
    "\n",
    "    query_str = 'SELECT DISTINCT `' + str(time_selection) + '` FROM timeDimension ORDER BY `' +str(time_selection) + '` ASC'\n",
    "    res = engine.execute(query_str).fetchall()\n",
    "    for item in res:\n",
    "        time_selection_values.append(item[0])\n",
    "    #print(column_values,time_selection_values)   \n",
    "\n",
    "\n",
    "    column1=time_selection\n",
    "    column2=column\n",
    "    column1_labels=time_selection_values\n",
    "    column2_labels=column_values\n",
    "    data_dict = {}\n",
    "\n",
    "    for i in range(len(column1_labels)):\n",
    "        for j in range(len(column2_labels)):\n",
    "            \n",
    "\n",
    "            query = 'SELECT COUNT(`' + str(column1) + '`) '\n",
    "            query += 'FROM timeDimension WHERE `' +str(column2)+'`= \\'' + str(column2_labels[j])+ '\\' AND `' +str(column1)+'`= \\'' + str(column1_labels[i])+'\\''\n",
    "            #print(query)\n",
    "        \n",
    "            #print(query)\n",
    "            res = engine.execute(query).fetchall()\n",
    "            #print(res[0][0])\n",
    "            data_dict[ str(column1_labels[i]) + ' ' + str(column2_labels[j])] = res[0][0]\n",
    "\n",
    "\n",
    "    #print(data_dict)\n",
    "\n",
    "\n",
    "    lst=[]\n",
    "    list_2011_2014 = []\n",
    "    list_of_lst = []\n",
    "    used=[]\n",
    "    x_labels = column2_labels\n",
    "    #print(x_labels)\n",
    "    for i in range(len(column1_labels)):\n",
    "        lst=[]\n",
    "        for j in range(len(column2_labels)):\n",
    "            lst.append(data_dict[str(column1_labels[i]) + ' ' +str(column2_labels[j])])\n",
    "        list_of_lst.append(lst)\n",
    "        \n",
    "        #print(lst)\n",
    "\n",
    "    #list_of_lst\n",
    "\n",
    "\n",
    "\n",
    "\n",
    "    list_of_lists_transpose = list(map(list, itertools.zip_longest(*list_of_lst, fillvalue=None)))\n",
    "\n",
    "\n",
    "\n",
    "    bottom = [0] * len(list_of_lists_transpose[0])\n",
    "    used=[]\n",
    "    fig = plt.figure(figsize=(10,6))\n",
    "\n",
    "    for i in range(len(column2_labels)):\n",
    "        plt.bar(column1_labels,list_of_lists_transpose[i],bottom=bottom,label=str(column2_labels[i]))\n",
    "        used.append(list_of_lists_transpose[i])\n",
    "        bottom = [sum(x) for x in zip(*used)]\n",
    "\n",
    "    plt.xlabel(str(column1))\n",
    "    plt.ylabel('# of Orders')\n",
    "    plt.title(str(column1) +' v ' +str(column2) +' Frequencies, ALL TIME')\n",
    "    plt.legend()\n",
    "    fig.subplots_adjust(bottom=0.4)\n",
    "    filepath = 'static' + '\\\\' + filename\n",
    "    plt.savefig(filepath)\n",
    "    return filepath\n",
    "\n",
    "        \n",
    "\n",
    "\n"
   ]
  },
  {
   "cell_type": "code",
   "execution_count": null,
   "metadata": {},
   "outputs": [],
   "source": []
  },
  {
   "cell_type": "code",
   "execution_count": null,
   "metadata": {},
   "outputs": [],
   "source": []
  },
  {
   "cell_type": "code",
   "execution_count": null,
   "metadata": {},
   "outputs": [],
   "source": []
  },
  {
   "cell_type": "code",
   "execution_count": null,
   "metadata": {},
   "outputs": [],
   "source": []
  },
  {
   "cell_type": "code",
   "execution_count": null,
   "metadata": {},
   "outputs": [],
   "source": []
  }
 ],
 "metadata": {
  "interpreter": {
   "hash": "d3f6813048be42aaa0fe06d1ca28b2a5e6b68cdcd657fd122f1e827782710bbd"
  },
  "kernelspec": {
   "display_name": "Python 3.8.13 ('flask1')",
   "language": "python",
   "name": "python3"
  },
  "language_info": {
   "codemirror_mode": {
    "name": "ipython",
    "version": 3
   },
   "file_extension": ".py",
   "mimetype": "text/x-python",
   "name": "python",
   "nbconvert_exporter": "python",
   "pygments_lexer": "ipython3",
   "version": "3.8.13"
  },
  "orig_nbformat": 4
 },
 "nbformat": 4,
 "nbformat_minor": 2
}
